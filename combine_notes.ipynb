{
 "cells": [
  {
   "cell_type": "markdown",
   "metadata": {},
   "source": [
    "#Fieldmove note merger\n",
    "\n",
    "Data collected with the Fieldmove Clino app in the field can be exported into a number of discrete .csv files. The code in this notebook:\n",
    "* imports these files into pandas dataframes\n",
    "* combines these dataframes into a single dataframe\n",
    "* filters the dataframe to only include data fields that are particularly relevant\n",
    "* exports this filtered dataframe as a LaTEX table"
   ]
  },
  {
   "cell_type": "code",
   "execution_count": 1,
   "metadata": {
    "collapsed": true
   },
   "outputs": [],
   "source": [
    "import os\n",
    "import pandas as pd\n",
    "pd.set_option('display.max_colwidth', -1)\n",
    "from dateutil.parser import parse"
   ]
  },
  {
   "cell_type": "code",
   "execution_count": 2,
   "metadata": {
    "collapsed": false
   },
   "outputs": [],
   "source": [
    "folder_path = u'/Users/Laurentia/Dropbox/research_projects/keweenawan/2015_fieldwork/Field_data/Michipicoten_data/project1.fm'"
   ]
  },
  {
   "cell_type": "code",
   "execution_count": 3,
   "metadata": {
    "collapsed": false
   },
   "outputs": [
    {
     "data": {
      "text/html": [
       "<div>\n",
       "<table border=\"1\" class=\"dataframe\">\n",
       "  <thead>\n",
       "    <tr style=\"text-align: right;\">\n",
       "      <th></th>\n",
       "      <th>localityId</th>\n",
       "      <th>localityName</th>\n",
       "      <th>dataId</th>\n",
       "      <th>x</th>\n",
       "      <th>y</th>\n",
       "      <th>latitude</th>\n",
       "      <th>longitude</th>\n",
       "      <th>altitude</th>\n",
       "      <th>horiz_precision</th>\n",
       "      <th>vert_precision</th>\n",
       "      <th>planeType</th>\n",
       "      <th>dip</th>\n",
       "      <th>dipAzimuth</th>\n",
       "      <th>strike</th>\n",
       "      <th>declination</th>\n",
       "      <th>unitId</th>\n",
       "      <th>timedate</th>\n",
       "      <th>notes</th>\n",
       "    </tr>\n",
       "  </thead>\n",
       "  <tbody>\n",
       "    <tr>\n",
       "      <th>0</th>\n",
       "      <td>42a090b75f8378c455480e6335e5fcc0</td>\n",
       "      <td>Locality 1</td>\n",
       "      <td>7365542834027c1a70aa924f4c3a596c</td>\n",
       "      <td>578857.478737</td>\n",
       "      <td>5288591.444584</td>\n",
       "      <td>47.745872</td>\n",
       "      <td>-85.948016</td>\n",
       "      <td>4</td>\n",
       "      <td>5</td>\n",
       "      <td>-1</td>\n",
       "      <td>Bedding</td>\n",
       "      <td>37.345936</td>\n",
       "      <td>177.934647</td>\n",
       "      <td>87.934647</td>\n",
       "      <td>-6.582039</td>\n",
       "      <td>Deer Yard Member</td>\n",
       "      <td>Sun Jul 19 13:27:33 2015</td>\n",
       "      <td></td>\n",
       "    </tr>\n",
       "  </tbody>\n",
       "</table>\n",
       "</div>"
      ],
      "text/plain": [
       "                         localityId  localityName  \\\n",
       "0  42a090b75f8378c455480e6335e5fcc0   Locality 1    \n",
       "\n",
       "                              dataId              x               y  \\\n",
       "0   7365542834027c1a70aa924f4c3a596c  578857.478737  5288591.444584   \n",
       "\n",
       "    latitude   longitude   altitude   horiz_precision   vert_precision  \\\n",
       "0  47.745872 -85.948016   4          5                -1                 \n",
       "\n",
       "   planeType        dip   dipAzimuth     strike   declination  \\\n",
       "0   Bedding   37.345936  177.934647   87.934647 -6.582039       \n",
       "\n",
       "               unitId                   timedate  notes  \n",
       "0   Deer Yard Member    Sun Jul 19 13:27:33 2015         "
      ]
     },
     "execution_count": 3,
     "metadata": {},
     "output_type": "execute_result"
    }
   ],
   "source": [
    "image = pd.read_csv(folder_path + '/image.csv')\n",
    "note = pd.read_csv(folder_path + '/note.csv')\n",
    "plane = pd.read_csv(folder_path + '/plane.csv')\n",
    "plane.head(1)"
   ]
  },
  {
   "cell_type": "code",
   "execution_count": 4,
   "metadata": {
    "collapsed": false
   },
   "outputs": [
    {
     "data": {
      "text/html": [
       "<div>\n",
       "<table border=\"1\" class=\"dataframe\">\n",
       "  <thead>\n",
       "    <tr style=\"text-align: right;\">\n",
       "      <th></th>\n",
       "      <th>index</th>\n",
       "      <th>altitude</th>\n",
       "      <th>dataId</th>\n",
       "      <th>declination</th>\n",
       "      <th>dip</th>\n",
       "      <th>dipAzimuth</th>\n",
       "      <th>heading</th>\n",
       "      <th>horiz_precision</th>\n",
       "      <th>image name</th>\n",
       "      <th>latitude</th>\n",
       "      <th>...</th>\n",
       "      <th>notes</th>\n",
       "      <th>planeType</th>\n",
       "      <th>strike</th>\n",
       "      <th>timedate</th>\n",
       "      <th>unitId</th>\n",
       "      <th>vert_precision</th>\n",
       "      <th>x</th>\n",
       "      <th>y</th>\n",
       "      <th>localityId</th>\n",
       "      <th>time</th>\n",
       "    </tr>\n",
       "  </thead>\n",
       "  <tbody>\n",
       "    <tr>\n",
       "      <th>0</th>\n",
       "      <td>174</td>\n",
       "      <td>3</td>\n",
       "      <td>992d953ecab7996ab1d6aa51f8164f62</td>\n",
       "      <td>-6.5</td>\n",
       "      <td>NaN</td>\n",
       "      <td>NaN</td>\n",
       "      <td>345.349884</td>\n",
       "      <td>5</td>\n",
       "      <td>0_1436471451.jpg</td>\n",
       "      <td>47.704245</td>\n",
       "      <td>...</td>\n",
       "      <td>Thick basalt flow that goes from massive into massive with a few vesicles before being covered in cobble beach before next massive flow interior. Vesicle cylinders in this outcrop too (SLR 310).</td>\n",
       "      <td>NaN</td>\n",
       "      <td>NaN</td>\n",
       "      <td>Thu Jul  9 14:50:51 2015</td>\n",
       "      <td>NaN</td>\n",
       "      <td>-1</td>\n",
       "      <td>586202.001117</td>\n",
       "      <td>5284068.571464</td>\n",
       "      <td>42a090b75f8378c455480e6335e5fcc0</td>\n",
       "      <td>2015-07-09 14:50:51</td>\n",
       "    </tr>\n",
       "  </tbody>\n",
       "</table>\n",
       "<p>1 rows × 22 columns</p>\n",
       "</div>"
      ],
      "text/plain": [
       "   index   altitude                             dataId   declination   dip  \\\n",
       "0  174    3           992d953ecab7996ab1d6aa51f8164f62 -6.5          NaN     \n",
       "\n",
       "    dipAzimuth     heading   horiz_precision         image name   latitude  \\\n",
       "0 NaN           345.349884  5                  0_1436471451.jpg  47.704245   \n",
       "\n",
       "          ...          \\\n",
       "0         ...           \n",
       "\n",
       "                                                                                                                                                                                                  notes  \\\n",
       "0   Thick basalt flow that goes from massive into massive with a few vesicles before being covered in cobble beach before next massive flow interior. Vesicle cylinders in this outcrop too (SLR 310).    \n",
       "\n",
       "    planeType  strike                   timedate   unitId  vert_precision  \\\n",
       "0  NaN        NaN       Thu Jul  9 14:50:51 2015  NaN     -1                \n",
       "\n",
       "               x               y                        localityId  \\\n",
       "0  586202.001117  5284068.571464  42a090b75f8378c455480e6335e5fcc0   \n",
       "\n",
       "                 time  \n",
       "0 2015-07-09 14:50:51  \n",
       "\n",
       "[1 rows x 22 columns]"
      ]
     },
     "execution_count": 4,
     "metadata": {},
     "output_type": "execute_result"
    }
   ],
   "source": [
    "all_notes = pd.concat((image, note, plane))\n",
    "all_notes['time'] = pd.to_datetime(all_notes[' timedate'])\n",
    "all_notes.sort(columns='time',inplace='True')\n",
    "all_notes.reset_index(inplace='True')\n",
    "all_notes.head(1)"
   ]
  },
  {
   "cell_type": "code",
   "execution_count": 5,
   "metadata": {
    "collapsed": false
   },
   "outputs": [
    {
     "data": {
      "text/plain": [
       "Index([u'index', u' altitude', u' dataId', u' declination', u' dip',\n",
       "       u' dipAzimuth', u' heading', u' horiz_precision', u' image name',\n",
       "       u' latitude', u' localityName', u' longitude', u' notes', u' planeType',\n",
       "       u' strike', u' timedate', u' unitId', u' vert_precision', u' x', u' y',\n",
       "       u'localityId', u'time'],\n",
       "      dtype='object')"
      ]
     },
     "execution_count": 5,
     "metadata": {},
     "output_type": "execute_result"
    }
   ],
   "source": [
    "all_notes.to_csv(os.path.join(folder_path,r'all_notes.csv'))\n",
    "all_notes.columns"
   ]
  },
  {
   "cell_type": "code",
   "execution_count": 6,
   "metadata": {
    "collapsed": false
   },
   "outputs": [],
   "source": [
    "filtered_notes = all_notes[['time',\n",
    "                            ' latitude',\n",
    "                            ' longitude',\n",
    "                            ' localityName',\n",
    "                            ' unitId',\n",
    "                            ' notes',\n",
    "                            ' image name',\n",
    "                            ' heading',\n",
    "                            ' planeType',\n",
    "                            ' dipAzimuth',\n",
    "                            ' dip']]"
   ]
  },
  {
   "cell_type": "code",
   "execution_count": 7,
   "metadata": {
    "collapsed": false
   },
   "outputs": [
    {
     "data": {
      "text/html": [
       "<div>\n",
       "<table border=\"1\" class=\"dataframe\">\n",
       "  <thead>\n",
       "    <tr style=\"text-align: right;\">\n",
       "      <th></th>\n",
       "      <th>time</th>\n",
       "      <th>latitude</th>\n",
       "      <th>longitude</th>\n",
       "      <th>localityName</th>\n",
       "      <th>unitId</th>\n",
       "      <th>notes</th>\n",
       "      <th>image name</th>\n",
       "      <th>heading</th>\n",
       "      <th>planeType</th>\n",
       "      <th>dipAzimuth</th>\n",
       "      <th>dip</th>\n",
       "    </tr>\n",
       "  </thead>\n",
       "  <tbody>\n",
       "    <tr>\n",
       "      <th>332</th>\n",
       "      <td>2015-07-19 18:39:28</td>\n",
       "      <td>47.694855</td>\n",
       "      <td>-85.804308</td>\n",
       "      <td>Locality 1</td>\n",
       "      <td>NaN</td>\n",
       "      <td></td>\n",
       "      <td>333_1437349168.jpg</td>\n",
       "      <td>253.300217</td>\n",
       "      <td>NaN</td>\n",
       "      <td>NaN</td>\n",
       "      <td>NaN</td>\n",
       "    </tr>\n",
       "  </tbody>\n",
       "</table>\n",
       "</div>"
      ],
      "text/plain": [
       "                   time   latitude   longitude  localityName  unitId  notes  \\\n",
       "332 2015-07-19 18:39:28  47.694855 -85.804308    Locality 1   NaN             \n",
       "\n",
       "              image name     heading  planeType   dipAzimuth   dip  \n",
       "332   333_1437349168.jpg  253.300217  NaN       NaN          NaN    "
      ]
     },
     "execution_count": 7,
     "metadata": {},
     "output_type": "execute_result"
    }
   ],
   "source": [
    "filtered_notes.tail(1)"
   ]
  },
  {
   "cell_type": "code",
   "execution_count": 8,
   "metadata": {
    "collapsed": true
   },
   "outputs": [],
   "source": [
    "filtered_notes.to_csv('all_notes_filtered.csv')"
   ]
  },
  {
   "cell_type": "code",
   "execution_count": 9,
   "metadata": {
    "collapsed": false
   },
   "outputs": [
    {
     "data": {
      "text/plain": [
       "u\"\\\\begin{longtable}{llrrllllrlrr}\\n\\\\toprule\\n{} &                time &   latitude &   longitude &  localityName &                 unitId &                                                                                                                                                                                                                                             notes &           image name &     heading &      planeType &   dipAzimuth &        dip \\\\\\\\\\n\\\\midrule\\n\\\\endhead\\n\\\\midrule\\n\\\\multicolumn{3}{r}{{Continued on next page}} \\\\\\\\\\n\\\\midrule\\n\\\\endfoot\\n\\n\\\\bottomrule\\n\\\\endlastfoot\\n0   & 2015-07-09 14:50:51 &  47.704245 & -85.850952 &   Locality 1 &  NaN &   Thick basalt flow that goes from massive into massive with a few vesicles before being covered in cobble beach before next massive flow interior. Vesicle cylinders in this outcrop too (SLR 310).  &   0\\\\_1436471451.jpg &  345.349884 &  NaN & NaN & NaN \\\\\\\\\\n1   & 2015-07-09 15:02:22 &  47.703668 & -85.849874 &   Locality 1 &  NaN &   Massive flow interior.  &  NaN & NaN &  NaN & NaN & NaN \\\\\\\\\\n2   & 2015-07-09 15:22:12 &  47.702649 & -85.846306 &   Locality 1 &  NaN &   Massive basalt with amygdules.  &   2\\\\_1436473332.jpg &  48.190155 &  NaN & NaN & NaN \\\\\\\\\\n3   & 2015-07-09 15:25:04 &  47.702404 & -85.845394 &   Locality 1 &  NaN &   Uppermost South Shore Member flow.  &   3\\\\_1436473504.jpg &  149.449203 &  NaN & NaN & NaN \\\\\\\\\\n4   & 2015-07-09 16:13:13 &  47.705080 & -85.850836 &   Locality 1 &  NaN &   Zodiac sitting in West Sand Bay.  &   4\\\\_1436476393.jpg &  85.747467 &  NaN & NaN & NaN \\\\\\\\\\n5   & 2015-07-09 16:20:36 &  47.706786 & -85.848214 &   Locality 1 &  NaN &   Checking out beaver carcass  &   5\\\\_1436476836.jpg &  196.637207 &  NaN & NaN & NaN \\\\\\\\\\n6   & 2015-07-10 07:11:45 &  47.712831 & -85.913020 &   Locality 1 &  NaN &   Channel Lake Andesite. Feldspar phenos up to 6 mm. Likely a stony rather than vitreous portion of the flow in the parlance of Annells.  &   6\\\\_1436530305.jpg &  134.185379 &  NaN & NaN & NaN \\\\\\\\\\n7   & 2015-07-10 07:17:06 &  47.712582 & -85.912797 &   Locality 1 &  NaN &   Columnar jointing in Channel Lake Member.  &   7\\\\_1436530626.jpg &  166.725067 &  NaN & NaN & NaN \\\\\\\\\\n8   & 2015-07-10 07:31:15 &  47.712243 & -85.912648 &   Locality 1 &  NaN &   Another view of columnar joints.  &   8\\\\_1436531475.jpg &  159.140167 &  NaN & NaN & NaN \\\\\\\\\\n9   & 2015-07-10 08:35:15 &  47.712186 & -85.912410 &   Locality 1 &  NaN &   Collecting andesite for geochron as CL1-geochron. Southern end of collection here.  &   9\\\\_1436535315.jpg &  131.626328 &  NaN & NaN & NaN \\\\\\\\\\n10  & 2015-07-10 10:12:26 &  47.711885 & -85.887456 &   Locality 1 &  NaN &   Fine-grained dark grey volcanic. Likely near top of Channel Lake Member.  &  NaN & NaN &  NaN & NaN & NaN \\\\\\\\\\n11  & 2015-07-10 10:15:52 &  47.711958 & -85.888274 &   Locality 1 &  NaN &   Fine-grained Channel Lake Member volcanic.  &  NaN & NaN &  NaN & NaN & NaN \\\\\\\\\\n12  & 2015-07-10 10:21:10 &  47.711796 & -85.886989 &   Locality 1 &  NaN &   Northernmost exposure of West Sand Bay Member tuff is in the water in the foreground of this photo.  &   12\\\\_1436541670.jpg &  162.287155 &  NaN & NaN & NaN \\\\\\\\\\n13  & 2015-07-10 10:25:30 &  47.711691 & -85.887049 &   Locality 1 &  NaN &   West Sand Bay Member tuff with fine-grained light green matrix and abundant green-grey angular lithic fragments.  &   13\\\\_1436541930.jpg &  207.973007 &  NaN & NaN & NaN \\\\\\\\\\n14  & 2015-07-10 10:30:37 &  47.711702 & -85.887097 &   Locality 1 &  NaN &   Within tuff there are larger cobble-sized lithics that are dominantly red felsite and porphyry. Like is pointing to one in this photo.  &   14\\\\_1436542237.jpg &  207.196869 &  NaN & NaN & NaN \\\\\\\\\\n15  & 2015-07-10 10:37:47 &  47.711725 & -85.887015 &   Locality 1 &  NaN &   Large red felsic lithics within tuff.  &   15\\\\_1436542667.jpg &  182.070801 &  NaN & NaN & NaN \\\\\\\\\\n16  & 2015-07-10 11:17:31 &  47.711753 & -85.885074 &   Locality 1 &  NaN &   Fine-grained grey volcanic.  &  NaN & NaN &  NaN & NaN & NaN \\\\\\\\\\n17  & 2015-07-10 11:23:24 &  47.711701 & -85.885016 &   Locality 1 &  NaN &   Fine-grained green-grey volcanic with a few vesicles.  &   17\\\\_1436545404.jpg &  58.574604 &  NaN & NaN & NaN \\\\\\\\\\n18  & 2015-07-10 11:31:31 &  47.711623 & -85.883691 &   Locality 1 &  NaN &   Contact between Channel Lake Member and West Sand Bay member tuff. With tuff currently under water with present shoreline being the contact.  &  NaN & NaN &  NaN & NaN & NaN \\\\\\\\\\n19  & 2015-07-10 11:35:32 &  47.711668 & -85.883656 &   Locality 1 &  NaN &   Auto-brecciation near top of Channel Lake andesite.  &   19\\\\_1436546132.jpg &  17.881823 &  NaN & NaN & NaN \\\\\\\\\\n20  & 2015-07-10 11:38:34 &  47.711678 & -85.882987 &   Locality 1 &  NaN &   Fine-grained volcanic  &  NaN & NaN &  NaN & NaN & NaN \\\\\\\\\\n21  & 2015-07-10 11:41:29 &  47.711528 & -85.882304 &   Locality 1 &  NaN &   Folded and auto-brecciated flow top &   21\\\\_1436546489.jpg &  219.041153 &  NaN & NaN & NaN \\\\\\\\\\n22  & 2015-07-10 11:50:36 &  47.711552 & -85.882309 &   Locality 1 &  NaN &   Stertched out vesicle in CL flow top &   22\\\\_1436547036.jpg &  309.682922 &  NaN & NaN & NaN \\\\\\\\\\n23  & 2015-07-10 11:56:40 &  47.711510 & -85.882145 &   Locality 1 &  NaN &   Within the irregular auto-folded flow top of the CL member is the WSB tuff with cobbles of red felsic porphyry.  &   23\\\\_1436547400.jpg &  258.294861 &  NaN & NaN & NaN \\\\\\\\\\n24  & 2015-07-10 12:52:24 &  47.709584 & -85.879086 &   Locality 1 &  NaN &   Small underwater outcrop of volcaniclastic(?) unit. Looks different than green tuff. Looks to have altered light orange lithics that look like flow above and pockets of black fine-grained glass(?). Sandy beach between last photo and here.  &   24\\\\_1436550744.jpg &  7.330286 &  NaN & NaN & NaN \\\\\\\\\\n25  & 2015-07-10 12:54:21 &  47.709549 & -85.878918 &   Locality 1 &  NaN &   Poorly exposed orange-red altered Quebec Harbor Member lava flow.  &   25\\\\_1436550861.jpg &  198.372498 &  NaN & NaN & NaN \\\\\\\\\\n26  & 2015-07-10 13:19:07 &  47.711859 & -85.886345 &   Locality 1 &  NaN &   Fine-grained volcanic with folded flow banding.  &  NaN & NaN &  NaN & NaN & NaN \\\\\\\\\\n27  & 2015-07-10 13:26:15 &  47.711555 & -85.886986 &   Locality 1 &  NaN &   At uppermost exposure of WSB tuff looking back at Luke and Will sampling WSB1-geochron.  &   27\\\\_1436552775.jpg &  332.629578 &  NaN & NaN & NaN \\\\\\\\\\n28  & 2015-07-11 07:57:39 &  47.725305 & -85.649807 &   Locality 1 &  NaN &   Will pointing at contact between laminated siltstone of East Sand Bay Member and basalt of South Shoren Member.   &   28\\\\_1436619459.jpg &  189.454529 &  NaN & NaN & NaN \\\\\\\\\\n29  & 2015-07-11 08:10:12 &  47.725287 & -85.649770 &   Locality 1 &  NaN &   Laminated siltstone of East Sand Bay Member  &   29\\\\_1436620212.jpg &  268.363251 &  NaN & NaN & NaN \\\\\\\\\\n30  & 2015-07-11 08:31:58 &  47.725681 & -85.648232 &   Locality 1 &  NaN &   Rugged shoreline here. Slightly inland have fine-grained volcanic with large amygdules.  &  NaN & NaN &  NaN & NaN & NaN \\\\\\\\\\n31  & 2015-07-11 08:39:24 &  47.725376 & -85.647870 &   Locality 1 &  NaN &   Same siltstone as on other side of peninsula. Finely laminated with abundant calcite nodules.  &   31\\\\_1436621964.jpg &  302.987823 &  NaN & NaN & NaN \\\\\\\\\\n32  & 2015-07-11 08:48:45 &  47.725486 & -85.647933 &   Locality 1 &  NaN &   Contact between ESB Mb siltstone and SS basalt.  &   32\\\\_1436622525.jpg &  252.861252 &  NaN & NaN & NaN \\\\\\\\\\n33  & 2015-07-11 09:04:26 &  47.724886 & -85.648390 &   Locality 1 &  NaN &   Volcaniclastic unit (ESB Mb?) with flow above that gas some vesicles in its base. Dipping to the NW.  &   33\\\\_1436623466.jpg &  315.284607 &  NaN & NaN & NaN \\\\\\\\\\n34  & 2015-07-11 09:11:19 &  47.724288 & -85.648980 &   Locality 1 &  NaN &   Laminated light grey tuff/siltstone with fine wavy and disturbed laminations. Laminations are disturbed and folded in vicinity.  &   34\\\\_1436623879.jpg &  269.782166 &  NaN & NaN & NaN \\\\\\\\\\n35  & 2015-07-11 09:12:10 &  47.724248 & -85.649036 &   Locality 1 &   South Shore Member &    &  NaN & NaN &   Bedding &  271.572510 &  18.983568 \\\\\\\\\\n36  & 2015-07-11 09:13:57 &  47.724258 & -85.649006 &   Locality 1 &  NaN &   Tight folding in laminated siltstone. Soft-sediment deformation? &   36\\\\_1436624037.jpg &  257.173553 &  NaN & NaN & NaN \\\\\\\\\\n37  & 2015-07-11 09:26:11 &  47.723519 & -85.648316 &   Locality 1 &   South Shore Member &   Laminated green siltstone with variable bedding.  &  NaN & NaN &   Bedding &  257.604187 &  18.655642 \\\\\\\\\\n38  & 2015-07-11 09:27:00 &  47.723511 & -85.648341 &   Locality 1 &   South Shore Member &    &  NaN & NaN &   Bedding &  229.571915 &  22.354727 \\\\\\\\\\n39  & 2015-07-11 09:27:17 &  47.723510 & -85.648329 &   Locality 1 &   South Shore Member &    &  NaN & NaN &   Bedding &  236.642365 &  15.568647 \\\\\\\\\\n40  & 2015-07-11 09:30:46 &  47.723520 & -85.648360 &   Locality 1 &  NaN &   Green siltstone with variable bedding due to disturbance from overlying flow.   &   40\\\\_1436625046.jpg &  271.637817 &  NaN & NaN & NaN \\\\\\\\\\n41  & 2015-07-11 09:31:22 &  47.723512 & -85.648288 &   Locality 1 &   South Shore Member &   Laminated siltstone  &  NaN & NaN &   Bedding &  253.750671 &  22.359081 \\\\\\\\\\n42  & 2015-07-11 09:32:53 &  47.723501 & -85.648304 &   Locality 1 &   South Shore Member &   Laminated siltstone  &  NaN & NaN &   Bedding &  252.488144 &  16.030294 \\\\\\\\\\n43  & 2015-07-11 09:35:46 &  47.723464 & -85.648322 &   Locality 1 &  NaN &   Contact between siltstone and overlying basalt with groove marks being made in underlying siltstone. In the cusp between grooves would be quite disturbed and soft-sediment folded siltstone. &   43\\\\_1436625346.jpg &  248.952866 &  NaN & NaN & NaN \\\\\\\\\\n44  & 2015-07-11 09:37:55 &  47.723511 & -85.648302 &   Locality 1 &   South Shore Member &    &  NaN & NaN &   Bedding &  194.419601 &  22.617790 \\\\\\\\\\n45  & 2015-07-11 09:38:18 &  47.723471 & -85.648170 &   Locality 1 &   South Shore Member &    &  NaN & NaN &   Bedding &  205.939606 &  24.494526 \\\\\\\\\\n46  & 2015-07-11 09:38:27 &  47.723463 & -85.648172 &   Locality 1 &   South Shore Member &    &  NaN & NaN &   Bedding &  226.241028 &  20.340538 \\\\\\\\\\n47  & 2015-07-11 09:38:56 &  47.723498 & -85.648251 &   Locality 1 &   South Shore Member &    &  NaN & NaN &   Bedding &  235.757843 &  20.906778 \\\\\\\\\\n48  & 2015-07-11 09:39:31 &  47.723517 & -85.648310 &   Locality 1 &   South Shore Member &    &  NaN & NaN &   Bedding &  241.501007 &  17.898077 \\\\\\\\\\n49  & 2015-07-11 09:44:32 &  47.723621 & -85.648680 &   Locality 1 &  NaN &   Siltstone with bedding that is folded and disturbed by overlying flow. Pmag site SS3 samples 4 to 6 sampled in the flow above.  &   49\\\\_1436625872.jpg &  283.032349 &  NaN & NaN & NaN \\\\\\\\\\n50  & 2015-07-11 09:46:21 &  47.723606 & -85.648703 &   Locality 1 &   South Shore Member &   Siltstone with quite variable bedding due to disturbance by flow.  &  NaN & NaN &   Bedding &  262.189484 &  21.242001 \\\\\\\\\\n51  & 2015-07-11 10:14:59 &  47.723747 & -85.649430 &   Locality 1 &  NaN &   Thin interflow siltstone at hammerhead.  &   51\\\\_1436627699.jpg &  224.279343 &  NaN & NaN & NaN \\\\\\\\\\n52  & 2015-07-11 10:15:25 &  47.723700 & -85.649418 &   Locality 1 &   South Shore Member &   Siltstone  &  NaN & NaN &   Bedding &  187.688461 &  13.403257 \\\\\\\\\\n53  & 2015-07-11 10:17:09 &  47.723764 & -85.649552 &   Locality 1 &   South Shore Member &   Siltstone  &  NaN & NaN &   Bedding &  213.411972 &  20.888071 \\\\\\\\\\n54  & 2015-07-11 10:18:27 &  47.723774 & -85.649572 &   Locality 1 &  NaN &   Beautiful grooves in siltstone made by overlying flow.  &   54\\\\_1436627907.jpg &  311.472168 &  NaN & NaN & NaN \\\\\\\\\\n55  & 2015-07-11 10:26:29 &  47.724333 & -85.650607 &   Locality 1 &   South Shore Member &   Siltstone with large groves from overlying flow.  &  NaN & NaN &   Bedding &  263.031616 &  26.754803 \\\\\\\\\\n56  & 2015-07-11 10:28:02 &  47.724388 & -85.650750 &   Locality 1 &   South Shore Member &   Interflow siltstone  &  NaN & NaN &   Bedding &  274.056152 &  36.878414 \\\\\\\\\\n57  & 2015-07-11 10:33:34 &  47.724352 & -85.650862 &   Locality 1 &  NaN &   Interflow siltstone with undulating bedding due to significant disturbance by overlying flow.  &   57\\\\_1436628814.jpg &  266.480225 &  NaN & NaN & NaN \\\\\\\\\\n58  & 2015-07-11 10:34:45 &  47.724316 & -85.650912 &   Locality 1 &   South Shore Member &   Horizontally laminated green siltstone  &  NaN & NaN &   Bedding &  252.361298 &  14.435277 \\\\\\\\\\n59  & 2015-07-11 10:35:01 &  47.724322 & -85.650919 &   Locality 1 &   South Shore Member &    &  NaN & NaN &   Bedding &  273.317719 &  17.308737 \\\\\\\\\\n60  & 2015-07-11 10:35:09 &  47.724336 & -85.650982 &   Locality 1 &   South Shore Member &    &  NaN & NaN &   Bedding &  246.054306 &  21.869751 \\\\\\\\\\n61  & 2015-07-11 10:35:16 &  47.724325 & -85.650958 &   Locality 1 &   South Shore Member &    &  NaN & NaN &   Bedding &  279.500427 &  10.464280 \\\\\\\\\\n62  & 2015-07-11 10:35:25 &  47.724298 & -85.650918 &   Locality 1 &   South Shore Member &    &  NaN & NaN &   Bedding &  267.502167 &  20.476995 \\\\\\\\\\n63  & 2015-07-11 10:35:37 &  47.724301 & -85.650887 &   Locality 1 &   South Shore Member &    &  NaN & NaN &   Bedding &  276.770142 &  27.167372 \\\\\\\\\\n64  & 2015-07-11 10:36:28 &  47.724304 & -85.650878 &   Locality 1 &   South Shore Member &    &  NaN & NaN &   Bedding &  277.347015 &  31.610701 \\\\\\\\\\n65  & 2015-07-11 10:37:17 &  47.724324 & -85.650923 &   Locality 1 &   South Shore Member &    &  NaN & NaN &   Bedding &  263.303558 &  27.410856 \\\\\\\\\\n66  & 2015-07-11 10:39:37 &  47.724295 & -85.651015 &   Locality 1 &  NaN &   Isoclinally folded raft of siltstone within flow.  &   66\\\\_1436629177.jpg &  274.233673 &  NaN & NaN & NaN \\\\\\\\\\n67  & 2015-07-11 10:44:12 &  47.724475 & -85.651078 &   Locality 1 &   South Shore Member &   Siltstone  &  NaN & NaN &   Bedding &  238.180283 &  28.478704 \\\\\\\\\\n68  & 2015-07-11 10:44:35 &  47.724480 & -85.651021 &   Locality 1 &   South Shore Member &    &  NaN & NaN &   Bedding &  262.521790 &  25.041809 \\\\\\\\\\n69  & 2015-07-11 10:44:42 &  47.724475 & -85.651068 &   Locality 1 &   South Shore Member &    &  NaN & NaN &   Bedding &  237.107788 &  24.617088 \\\\\\\\\\n70  & 2015-07-11 10:44:58 &  47.724477 & -85.651082 &   Locality 1 &   South Shore Member &    &  NaN & NaN &   Bedding &  229.189865 &  22.595072 \\\\\\\\\\n71  & 2015-07-11 10:51:10 &  47.724662 & -85.650812 &   Locality 1 &  NaN &   Tightly folded siltstone. Might this be tectonic or is it a raft of siltstone brought into the flow and then folded? &   71\\\\_1436629870.jpg &  325.618927 &  NaN & NaN & NaN \\\\\\\\\\n72  & 2015-07-11 11:02:07 &  47.725111 & -85.650200 &   Locality 1 &  NaN &   Interflow 5-6 cm thick limestone bed. Looks like these flows were erupting into a lake! Likely explains the lack of vesicles within the flows. SLR 320  321 &   72\\\\_1436630527.jpg &  253.281403 &  NaN & NaN & NaN \\\\\\\\\\n73  & 2015-07-11 11:02:16 &  47.725136 & -85.650247 &   Locality 1 &   South Shore Member &   Interflow siltstone  &  NaN & NaN &   Bedding &  238.663086 &  29.216310 \\\\\\\\\\n74  & 2015-07-11 11:02:44 &  47.725117 & -85.650192 &   Locality 1 &   South Shore Member &   Interflow limestone bed &  NaN & NaN &   Bedding &  242.715332 &  25.308687 \\\\\\\\\\n75  & 2015-07-11 12:10:34 &  47.724037 & -85.648318 &   Locality 1 &  NaN &   Start of section. Location of pmag site SS1.  &   75\\\\_1436634634.jpg &  166.627838 &  NaN & NaN & NaN \\\\\\\\\\n76  & 2015-07-11 12:51:44 &  47.723835 & -85.648294 &   Locality 1 &  NaN &   Vug filled with quartz near top of flow. Pmag site SS2 is just a couple meters from here in next flow.  &   76\\\\_1436637104.jpg &  270.768402 &  NaN & NaN & NaN \\\\\\\\\\n77  & 2015-07-11 13:14:01 &  47.723540 & -85.648322 &   Locality 1 &  NaN &    &   77\\\\_1436638441.jpg &  274.249969 &  NaN & NaN & NaN \\\\\\\\\\n78  & 2015-07-11 13:18:01 &  47.723533 & -85.648402 &   Locality 1 &  NaN &   SSa-23.3 flow top &  NaN & NaN &  NaN & NaN & NaN \\\\\\\\\\n79  & 2015-07-11 13:25:19 &  47.723437 & -85.648332 &   Locality 1 &  NaN &   Groove scours into siltstone from overlying basalt flow.  &   79\\\\_1436639119.jpg &  246.237289 &  NaN & NaN & NaN \\\\\\\\\\n80  & 2015-07-11 13:52:06 &  47.723395 & -85.649156 &   Locality 1 &  NaN &   Location of glassy sample SSa-39.0 &   80\\\\_1436640726.jpg &  299.593781 &  NaN & NaN & NaN \\\\\\\\\\n81  & 2015-07-11 13:52:50 &  47.723399 & -85.649135 &   Locality 1 &  NaN &   Rock sampled as SSa-39.0. The banding that is visible isn't associated with compositional change that is observable in hand sample.  &   81\\\\_1436640770.jpg &  276.838470 &  NaN & NaN & NaN \\\\\\\\\\n82  & 2015-07-11 14:33:43 &  47.723414 & -85.649141 &   Locality 1 &  NaN &   Sample SSa-38.7 &   82\\\\_1436643223.jpg &  140.017960 &  NaN & NaN & NaN \\\\\\\\\\n83  & 2015-07-11 14:34:04 &  47.723415 & -85.649130 &   Locality 1 &  NaN &   Sample SSa-38.7 &   83\\\\_1436643244.jpg &  129.309250 &  NaN & NaN & NaN \\\\\\\\\\n84  & 2015-07-11 17:31:11 &  47.723337 & -85.648579 &   Locality 1 &  NaN &   Pmag Site SS3. Samples 1  2  3 and 7 collected here.  &  NaN & NaN &  NaN & NaN & NaN \\\\\\\\\\n85  & 2015-07-12 10:57:11 &  47.702363 & -85.845427 &   Locality 1 &  NaN &   Pmag site SS7 &   85\\\\_1436716631.jpg &  198.058472 &  NaN & NaN & NaN \\\\\\\\\\n86  & 2015-07-12 13:27:53 &  47.704907 & -85.851200 &   Locality 1 &  NaN &   First exposure of South Shore Mb basalt after sand and then cobble beach of West Sand Bay. Start of section SSb.  &   86\\\\_1436725673.jpg &  247.462234 &  NaN & NaN & NaN \\\\\\\\\\n87  & 2015-07-12 13:40:18 &  47.704471 & -85.851394 &   Locality 1 &  NaN &   Pmag Site SS4 at base of exposure of massive flow with flow banding.  &   87\\\\_1436726418.jpg &  155.486115 &  NaN & NaN & NaN \\\\\\\\\\n88  & 2015-07-12 13:45:28 &  47.704455 & -85.851374 &   Locality 1 &   South Shore Member &    &  NaN & NaN &   Flow banding &  190.306763 &  25.238312 \\\\\\\\\\n89  & 2015-07-12 13:45:49 &  47.704465 & -85.851350 &   Locality 1 &   South Shore Member &    &  NaN & NaN &   Flow banding &  181.652664 &  24.029179 \\\\\\\\\\n90  & 2015-07-12 13:46:26 &  47.704486 & -85.851315 &   Locality 1 &   South Shore Member &    &  NaN & NaN &   Flow banding &  181.808487 &  17.995348 \\\\\\\\\\n91  & 2015-07-12 13:46:57 &  47.704463 & -85.851383 &   Locality 1 &   South Shore Member &    &  NaN & NaN &   Flow banding &  180.556702 &  25.836967 \\\\\\\\\\n92  & 2015-07-12 13:47:57 &  47.704461 & -85.851397 &   Locality 1 &   South Shore Member &    &  NaN & NaN &   Flow banding &  182.618927 &  19.510885 \\\\\\\\\\n93  & 2015-07-12 13:48:25 &  47.704458 & -85.851389 &   Locality 1 &   South Shore Member &    &  NaN & NaN &   Flow banding &  173.925217 &  24.551086 \\\\\\\\\\n94  & 2015-07-12 13:48:32 &  47.704459 & -85.851382 &   Locality 1 &   South Shore Member &    &  NaN & NaN &   Flow banding &  188.809067 &  28.633503 \\\\\\\\\\n95  & 2015-07-12 13:59:20 &  47.704256 & -85.851224 &   Locality 1 &  NaN &   Large amygdule &   95\\\\_1436727560.jpg &  13.621188 &  NaN & NaN & NaN \\\\\\\\\\n96  & 2015-07-12 14:00:32 &  47.704264 & -85.851228 &   Locality 1 &  NaN &    &   96\\\\_1436727632.jpg &  293.859009 &  NaN & NaN & NaN \\\\\\\\\\n97  & 2015-07-12 14:02:49 &  47.704267 & -85.851212 &   Locality 1 &  NaN &   Massive with amygdules  &   97\\\\_1436727769.jpg &  349.647339 &  NaN & NaN & NaN \\\\\\\\\\n98  & 2015-07-12 14:08:39 &  47.704193 & -85.850556 &   Locality 1 &  NaN &   SSb-29.2 &  NaN & NaN &  NaN & NaN & NaN \\\\\\\\\\n99  & 2015-07-12 14:10:24 &  47.703718 & -85.850191 &   Locality 1 &  NaN &   SSb-42.3 &  NaN & NaN &  NaN & NaN & NaN \\\\\\\\\\n100 & 2015-07-12 14:14:11 &  47.703741 & -85.850091 &   Locality 1 &  NaN &    &   100\\\\_1436728451.jpg &  358.708954 &  NaN & NaN & NaN \\\\\\\\\\n101 & 2015-07-12 14:21:38 &  47.703675 & -85.850041 &   Locality 1 &  NaN &   Pmag site SS5 &   101\\\\_1436728898.jpg &  228.366287 &  NaN & NaN & NaN \\\\\\\\\\n102 & 2015-07-12 14:23:13 &  47.703714 & -85.850087 &   Locality 1 &  NaN &   Nice insitu agate in SS5 pmag site flow.  &   102\\\\_1436728993.jpg &  110.754578 &  NaN & NaN & NaN \\\\\\\\\\n103 & 2015-07-12 14:31:31 &  47.703590 & -85.850099 &   Locality 1 &  NaN &   Amygdule  &   103\\\\_1436729491.jpg &  130.182999 &  NaN & NaN & NaN \\\\\\\\\\n104 & 2015-07-12 14:31:51 &  47.703617 & -85.850173 &   Locality 1 &  NaN &   Amygdule  &   104\\\\_1436729511.jpg &  231.373627 &  NaN & NaN & NaN \\\\\\\\\\n105 & 2015-07-12 14:32:30 &  47.703637 & -85.850140 &   Locality 1 &  NaN &   Amygdule  &   105\\\\_1436729550.jpg &  296.744446 &  NaN & NaN & NaN \\\\\\\\\\n106 & 2015-07-12 14:38:35 &  47.703372 & -85.849054 &   Locality 1 &  NaN &   SSb-58.9 &  NaN & NaN &  NaN & NaN & NaN \\\\\\\\\\n107 & 2015-07-12 14:43:11 &  47.703246 & -85.848883 &   Locality 1 &  NaN &   Massive flow banded basalt. Vugs are weathering feature associated with flow bands.  &   107\\\\_1436730191.jpg &  14.592089 &  NaN & NaN & NaN \\\\\\\\\\n108 & 2015-07-12 15:03:03 &  47.702874 & -85.848546 &   Locality 1 &  NaN &   Luke measuring underwater amygdaloidal basalt.   &   109\\\\_1436731383.jpg &  338.821991 &  NaN & NaN & NaN \\\\\\\\\\n109 & 2015-07-12 15:09:20 &  47.702898 & -85.848500 &   Locality 1 &  NaN &   SSb-75.8 &  NaN & NaN &  NaN & NaN & NaN \\\\\\\\\\n110 & 2015-07-12 15:10:58 &  47.702835 & -85.848582 &   Locality 1 &  NaN &   Massive basalt with flow banding. Flow of pmag site SS6. &   110\\\\_1436731858.jpg &  170.715469 &  NaN & NaN & NaN \\\\\\\\\\n111 & 2015-07-12 16:08:00 &  47.702649 & -85.845520 &   Locality 1 &  NaN &   SSb-102.8 &  NaN & NaN &  NaN & NaN & NaN \\\\\\\\\\n112 & 2015-07-12 16:30:08 &  47.703108 & -85.848180 &   Locality 1 &  NaN &   Auto-brecciated scoriaous amygdaloidal basalt.  &   112\\\\_1436736608.jpg &  13.374487 &  NaN & NaN & NaN \\\\\\\\\\n113 & 2015-07-12 16:31:56 &  47.702848 & -85.848473 &   Locality 1 &   South Shore Member &    &  NaN & NaN &   Flow banding &  179.060760 &  19.225143 \\\\\\\\\\n114 & 2015-07-12 16:32:06 &  47.702869 & -85.848466 &   Locality 1 &   South Shore Member &    &  NaN & NaN &   Flow banding &  201.286148 &  15.350338 \\\\\\\\\\n115 & 2015-07-12 16:32:11 &  47.702849 & -85.848490 &   Locality 1 &   South Shore Member &    &  NaN & NaN &   Flow banding &  185.727112 &  18.592524 \\\\\\\\\\n116 & 2015-07-12 16:32:30 &  47.702855 & -85.848489 &   Locality 1 &   South Shore Member &    &  NaN & NaN &   Flow banding &  168.835312 &  26.858986 \\\\\\\\\\n117 & 2015-07-12 16:33:16 &  47.702855 & -85.848489 &   Locality 1 &   South Shore Member &    &  NaN & NaN &   Flow banding &  165.506546 &  25.575851 \\\\\\\\\\n118 & 2015-07-12 16:33:24 &  47.702855 & -85.848489 &   Locality 1 &   South Shore Member &    &  NaN & NaN &   Flow banding &  178.657303 &  18.636784 \\\\\\\\\\n119 & 2015-07-13 09:45:05 &  47.703333 & -85.848933 &   Locality 1 &  NaN &   Massive basalt with flow banding. Pmag site SS9.  &   119\\\\_1436798705.jpg &  29.997751 &  NaN & NaN & NaN \\\\\\\\\\n120 & 2015-07-13 10:07:47 &  47.703091 & -85.848208 &   Locality 1 &  NaN &   Auto-brecciated flow top with siltstone infill. Exposed inland in woods a little ways in from shore (which is a cobble beach here with some amygdaloidal basalt poorly exposed underwater).  &   120\\\\_1436800067.jpg &  47.854069 &  NaN & NaN & NaN \\\\\\\\\\n121 & 2015-07-13 10:09:23 &  47.703095 & -85.848218 &   Locality 1 &  NaN &   Same scoriaous auto-brecciated flow top.  &   121\\\\_1436800163.jpg &  2.611432 &  NaN & NaN & NaN \\\\\\\\\\n122 & 2015-07-13 11:30:24 &  47.702258 & -85.841220 &   Locality 1 &   South Shore Member &    &  NaN & NaN &   Flow banding &  201.468155 &  17.703474 \\\\\\\\\\n123 & 2015-07-13 11:32:33 &  47.702220 & -85.840576 &   Locality 1 &   South Shore Member &    &  NaN & NaN &   Flow banding &  178.708298 &  23.116215 \\\\\\\\\\n124 & 2015-07-13 11:32:46 &  47.702286 & -85.840537 &   Locality 1 &   South Shore Member &    &  NaN & NaN &   Flow banding &  193.783813 &  20.775311 \\\\\\\\\\n125 & 2015-07-13 11:33:18 &  47.702257 & -85.840441 &   Locality 1 &   South Shore Member &    &  NaN & NaN &   Flow banding &  149.717651 &  20.538410 \\\\\\\\\\n126 & 2015-07-13 11:33:33 &  47.702293 & -85.840328 &   Locality 1 &   South Shore Member &    &  NaN & NaN &   Flow banding &  185.691574 &  21.796329 \\\\\\\\\\n127 & 2015-07-13 11:34:23 &  47.702339 & -85.840100 &   Locality 1 &   South Shore Member &    &  NaN & NaN &   Flow banding &  154.230835 &  18.970013 \\\\\\\\\\n128 & 2015-07-13 11:43:04 &  47.702296 & -85.840245 &   Locality 1 &   South Shore Member &    &  NaN & NaN &   Flow banding &  198.575455 &  15.921271 \\\\\\\\\\n129 & 2015-07-13 11:43:39 &  47.702286 & -85.840536 &   Locality 1 &   South Shore Member &    &  NaN & NaN &   Flow banding &  210.289520 &  20.117861 \\\\\\\\\\n130 & 2015-07-13 11:44:08 &  47.702267 & -85.840557 &   Locality 1 &   South Shore Member &    &  NaN & NaN &   Flow banding &  147.573196 &  22.230274 \\\\\\\\\\n131 & 2015-07-13 20:46:20 &  47.718724 & -85.779531 &   Locality 1 &  NaN &   Campsite &   131\\\\_1436838380.jpg &  49.871578 &  NaN & NaN & NaN \\\\\\\\\\n132 & 2015-07-14 08:33:47 &  47.733806 & -85.768618 &   Locality 1 &  NaN &   Channel Lake Member escarpment  &   132\\\\_1436880827.jpg &  129.946426 &  NaN & NaN & NaN \\\\\\\\\\n133 & 2015-07-14 10:52:07 &  47.748315 & -85.771868 &   Locality 1 &  NaN &   Glacial till on point that Annells has mapped as Coldwater Lake Member.  &   133\\\\_1436889127.jpg &  226.463867 &  NaN & NaN & NaN \\\\\\\\\\n134 & 2015-07-14 10:58:53 &  47.748327 & -85.771932 &   Locality 1 &  NaN &   Caribou carcass. Leg is separated from rest of body so looks like a wolf kill or dead caribou that was scavenged.   &   134\\\\_1436889533.jpg &  293.094849 &  NaN & NaN & NaN \\\\\\\\\\n135 & 2015-07-14 10:59:26 &  47.748346 & -85.771979 &   Locality 1 &  NaN &    &   135\\\\_1436889566.jpg &  278.964630 &  NaN & NaN & NaN \\\\\\\\\\n136 & 2015-07-14 11:06:54 &  47.748135 & -85.773504 &   Locality 1 &  NaN &   Small pile of rubble of a volcaniclastic lithology. Not in place  but fits Annells description in terms of types of lithic fragments (mafic and intermediate with a few felsic).  &   136\\\\_1436890014.jpg &  196.182053 &  NaN & NaN & NaN \\\\\\\\\\n137 & 2015-07-14 11:29:03 &  47.748223 & -85.774440 &   Locality 1 &  NaN &   Beaver fortress along shore of lake where Annells map has lake. Significant beaver modification of shoreline has taken place.  &   137\\\\_1436891343.jpg &  350.657104 &  NaN & NaN & NaN \\\\\\\\\\n138 & 2015-07-14 11:29:22 &  47.748206 & -85.774422 &   Locality 1 &  NaN &   Anger at the beavers.  &   138\\\\_1436891362.jpg &  17.027359 &  NaN & NaN & NaN \\\\\\\\\\n139 & 2015-07-14 14:38:15 &  47.730965 & -85.772300 &   Locality 1 &  NaN &    &   139\\\\_1436902695.jpg &  237.377365 &  NaN & NaN & NaN \\\\\\\\\\n140 & 2015-07-14 14:39:50 &  47.730921 & -85.772344 &   Locality 1 &  NaN &   Outcrop of Quebec Harbor Mb black glassy andesite. Collecting as geocchron QH1. Possible that block fell down from escarpment.  &   140\\\\_1436902790.jpg &  217.859970 &  NaN & NaN & NaN \\\\\\\\\\n141 & 2015-07-14 14:40:43 &  47.730951 & -85.772379 &   Locality 1 &  NaN &   QH1 tons of mosquitos and deer flies.  &   141\\\\_1436902843.jpg &  254.691345 &  NaN & NaN & NaN \\\\\\\\\\n142 & 2015-07-14 14:54:32 &  47.730892 & -85.772585 &   Locality 1 &  NaN &   Quebec Harbor with columnar jointing. Grabbing more material for QH1.  &   142\\\\_1436903672.jpg &  161.353210 &  NaN & NaN & NaN \\\\\\\\\\n143 & 2015-07-14 14:59:33 &  47.730895 & -85.772440 &   Locality 1 &  NaN &    &   143\\\\_1436903973.jpg &  227.447906 &  NaN & NaN & NaN \\\\\\\\\\n144 & 2015-07-15 10:37:25 &  47.723288 & -85.649102 &   Locality 1 &  NaN &   Looking NW along strike from SSa-39.5 &   144\\\\_1436974645.jpg &  304.065094 &  NaN & NaN & NaN \\\\\\\\\\n145 & 2015-07-15 10:49:53 &  47.723430 & -85.649132 &   Locality 1 &  NaN &   SSb-37.7 ropy flow top sampled for PINT glass study. Pmag site SS10 is in the thin flow above the flow boundary.  &   145\\\\_1436975393.jpg &  24.888668 &  NaN & NaN & NaN \\\\\\\\\\n146 & 2015-07-15 10:50:44 &  47.723398 & -85.649151 &   Locality 1 &  NaN &    &   146\\\\_1436975444.jpg &  343.708160 &  NaN & NaN & NaN \\\\\\\\\\n147 & 2015-07-15 10:50:57 &  47.723419 & -85.649142 &   Locality 1 &  NaN &    &   147\\\\_1436975457.jpg &  96.261826 &  NaN & NaN & NaN \\\\\\\\\\n148 & 2015-07-15 10:51:21 &  47.723417 & -85.649140 &   Locality 1 &  NaN &    &   148\\\\_1436975481.jpg &  60.980694 &  NaN & NaN & NaN \\\\\\\\\\n149 & 2015-07-15 10:51:33 &  47.723418 & -85.649142 &   Locality 1 &  NaN &    &   149\\\\_1436975493.jpg &  348.547028 &  NaN & NaN & NaN \\\\\\\\\\n150 & 2015-07-15 10:52:42 &  47.723457 & -85.649132 &   Locality 1 &  NaN &   Holes of SS10 in the foreground with ropy underlying flow top in the background.  &   150\\\\_1436975562.jpg &  204.319870 &  NaN & NaN & NaN \\\\\\\\\\n151 & 2015-07-15 11:04:47 &  47.723757 & -85.649525 &   Locality 1 &  NaN &   Pmag site SS11 &   151\\\\_1436976287.jpg &  124.818642 &  NaN & NaN & NaN \\\\\\\\\\n152 & 2015-07-15 11:07:01 &  47.723801 & -85.649562 &   Locality 1 &  NaN &   Siltstone at SSa-39.5 flow boundary with grooves into it from overlying flow.  &   152\\\\_1436976421.jpg &  301.846832 &  NaN & NaN & NaN \\\\\\\\\\n153 & 2015-07-15 11:07:18 &  47.723812 & -85.649571 &   Locality 1 &  NaN &    &   153\\\\_1436976438.jpg &  315.176392 &  NaN & NaN & NaN \\\\\\\\\\n154 & 2015-07-15 11:07:27 &  47.723812 & -85.649571 &   Locality 1 &  NaN &    &   154\\\\_1436976447.jpg &  311.339447 &  NaN & NaN & NaN \\\\\\\\\\n155 & 2015-07-15 11:07:58 &  47.723813 & -85.649590 &   Locality 1 &  NaN &    &   155\\\\_1436976478.jpg &  307.369019 &  NaN & NaN & NaN \\\\\\\\\\n156 & 2015-07-15 11:40:03 &  47.724291 & -85.651007 &   Locality 1 &  NaN &   Thin flow lobes. Took panorama of same shot that includes an Interflow siltstone slightly after this photo was taken.  &   156\\\\_1436978403.jpg &  307.990265 &  NaN & NaN & NaN \\\\\\\\\\n157 & 2015-07-15 13:22:45 &  47.724430 & -85.650617 &   Locality 1 &  NaN &   Fault in basalt flow. Offset most be minor as siltstone layer looks intact (albeit) with an odd bedding orientation.  &   157\\\\_1436984565.jpg &  284.045105 &  NaN & NaN & NaN \\\\\\\\\\n158 & 2015-07-15 13:23:03 &  47.724415 & -85.650611 &   Locality 1 &   South Shore Member &    &  NaN & NaN &   Fault &  145.255203 &  66.122314 \\\\\\\\\\n159 & 2015-07-15 13:32:11 &  47.724457 & -85.650693 &   Locality 1 &  NaN &   Pmag Site SS12 &   160\\\\_1436985131.jpg &  279.313965 &  NaN & NaN & NaN \\\\\\\\\\n160 & 2015-07-15 13:47:16 &  47.724343 & -85.650915 &   Locality 1 &  NaN &   Pmag site SS13 &   161\\\\_1436986036.jpg &  339.943024 &  NaN & NaN & NaN \\\\\\\\\\n161 & 2015-07-15 13:58:49 &  47.724445 & -85.650940 &   Locality 1 &  NaN &   Basalt flow causing grooving and soft-sediment folding in underlying siltstone.  &   162\\\\_1436986729.jpg &  294.452271 &  NaN & NaN & NaN \\\\\\\\\\n162 & 2015-07-15 14:05:43 &  47.724451 & -85.651149 &   Locality 1 &  NaN &    &   163\\\\_1436987143.jpg &  288.077240 &  NaN & NaN & NaN \\\\\\\\\\n163 & 2015-07-15 14:06:53 &  47.724530 & -85.651315 &   Locality 1 &  NaN &   Previously photgraphed flow lobe to the right with large lobe to left with large soft sed fold of siltstone at hammer.  &   164\\\\_1436987213.jpg &  269.077942 &  NaN & NaN & NaN \\\\\\\\\\n164 & 2015-07-15 15:18:14 &  47.724306 & -85.651184 &   Locality 1 &  NaN &   Flow top with ropy banding and thin flow with lobe geometry above.  &   165\\\\_1436991494.jpg &  339.118439 &  NaN & NaN & NaN \\\\\\\\\\n165 & 2015-07-15 15:22:52 &  47.724456 & -85.651137 &   Locality 1 &  NaN &   Top of section. SSa-56.6 &  NaN & NaN &  NaN & NaN & NaN \\\\\\\\\\n166 & 2015-07-15 15:24:55 &  47.724400 & -85.651067 &   Locality 1 &  NaN &   Pmag site SS15 &   167\\\\_1436991895.jpg &  349.765991 &  NaN & NaN & NaN \\\\\\\\\\n167 & 2015-07-15 15:56:59 &  47.724230 & -85.651199 &   Locality 1 &  NaN &   Example of what Annells called blocky jointing. Looking down on a flow.  &   168\\\\_1436993819.jpg &  10.640398 &  NaN & NaN & NaN \\\\\\\\\\n168 & 2015-07-15 16:00:03 &  47.724373 & -85.650940 &   Locality 1 &  NaN &   Pmag site SS14 &   169\\\\_1436994003.jpg &  337.379547 &  NaN & NaN & NaN \\\\\\\\\\n169 & 2015-07-15 16:47:21 &  47.725480 & -85.647865 &   Locality 1 &   South Shore Member &    &  NaN & NaN &   Bedding &  240.926941 &  22.785879 \\\\\\\\\\n170 & 2015-07-15 16:47:30 &  47.725480 & -85.647865 &   Locality 1 &   South Shore Member &    &  NaN & NaN &   Bedding &  226.365295 &  30.330559 \\\\\\\\\\n171 & 2015-07-15 16:47:44 &  47.725480 & -85.647868 &   Locality 1 &   South Shore Member &    &  NaN & NaN &   Bedding &  231.649963 &  14.937276 \\\\\\\\\\n172 & 2015-07-15 16:47:54 &  47.725464 & -85.647845 &   Locality 1 &   South Shore Member &    &  NaN & NaN &   Bedding &  219.906540 &  21.385979 \\\\\\\\\\n173 & 2015-07-15 17:04:08 &  47.726068 & -85.648002 &   Locality 1 &  NaN &   These islands mapped as South Shore Member could be Channel Lake Mb &   174\\\\_1436997848.jpg &  101.245316 &  NaN & NaN & NaN \\\\\\\\\\n174 & 2015-07-15 17:07:39 &  47.725838 & -85.647978 &   Locality 1 &  NaN &   East Sand Bay Member tuff is currently underwater. Lake level is 0.5 meters above chart datum.   &   175\\\\_1436998059.jpg &  116.412567 &  NaN & NaN & NaN \\\\\\\\\\n175 & 2015-07-15 17:09:37 &  47.725652 & -85.648060 &   Locality 1 &   East Sand Bay Member &    &  NaN & NaN &   Bedding &  252.892990 &  18.713396 \\\\\\\\\\n176 & 2015-07-15 17:10:53 &  47.725652 & -85.648104 &   Locality 1 &  NaN &   Red-green siltstone with calcite nodules. Perhaps formerly anhydrite? &   177\\\\_1436998253.jpg &  214.747620 &  NaN & NaN & NaN \\\\\\\\\\n177 & 2015-07-15 17:11:54 &  47.725644 & -85.648028 &   Locality 1 &  NaN &    &   178\\\\_1436998314.jpg &  272.362244 &  NaN & NaN & NaN \\\\\\\\\\n178 & 2015-07-15 17:12:19 &  47.725641 & -85.648054 &   Locality 1 &   East Sand Bay Member &    &  NaN & NaN &   Bedding &  248.997314 &  22.374222 \\\\\\\\\\n179 & 2015-07-15 17:14:01 &  47.725525 & -85.648068 &   Locality 1 &   East Sand Bay Member &    &  NaN & NaN &   Bedding &  239.477341 &  31.108337 \\\\\\\\\\n180 & 2015-07-15 17:20:57 &  47.725289 & -85.647989 &   Locality 1 &  NaN &   Easy way down to first thick SS Mb flow  &  NaN & NaN &  NaN & NaN & NaN \\\\\\\\\\n181 & 2015-07-15 17:26:49 &  47.724813 & -85.648874 &   Locality 1 &  NaN &   Top of first thick SS flow. Siltstone in waters  &  NaN & NaN &  NaN & NaN & NaN \\\\\\\\\\n182 & 2015-07-16 08:55:14 &  47.703846 & -85.726564 &   Locality 1 &   South Shore Member &    &  NaN & NaN &   Flow banding &  149.275711 &  28.131504 \\\\\\\\\\n183 & 2015-07-16 08:55:34 &  47.703845 & -85.726588 &   Locality 1 &   South Shore Member &    &  NaN & NaN &   Flow banding &  155.071518 &  16.814289 \\\\\\\\\\n184 & 2015-07-16 08:57:24 &  47.703852 & -85.726372 &   Locality 1 &  NaN &   Beautiful glacially striated surface of SS Member  basalt flow.  &   185\\\\_1437055044.jpg &  11.276923 &  NaN & NaN & NaN \\\\\\\\\\n185 & 2015-07-16 08:59:56 &  47.703838 & -85.726518 &   Locality 1 &   South Shore Member &    &  NaN & NaN &   Flow banding &  144.814560 &  24.663757 \\\\\\\\\\n186 & 2015-07-16 09:02:46 &  47.704032 & -85.726477 &   Locality 1 &  NaN &   Clastic dike and glacially striated surface in massive basalt with some large amygdules.  &   187\\\\_1437055366.jpg &  216.943787 &  NaN & NaN & NaN \\\\\\\\\\n187 & 2015-07-16 09:03:22 &  47.704006 & -85.726402 &   Locality 1 &  NaN &    &   188\\\\_1437055402.jpg &  239.505768 &  NaN & NaN & NaN \\\\\\\\\\n188 & 2015-07-16 09:03:34 &  47.703990 & -85.726406 &   Locality 1 &  NaN &    &   189\\\\_1437055414.jpg &  288.639801 &  NaN & NaN & NaN \\\\\\\\\\n189 & 2015-07-16 09:05:45 &  47.703867 & -85.726520 &   Locality 1 &   South Shore Member &    &  NaN & NaN &   Joint &  66.117233 &  85.090469 \\\\\\\\\\n190 & 2015-07-16 09:05:50 &  47.703865 & -85.726522 &   Locality 1 &   South Shore Member &    &  NaN & NaN &   Joint &  58.726246 &  76.226486 \\\\\\\\\\n191 & 2015-07-16 09:05:56 &  47.703867 & -85.726522 &   Locality 1 &   South Shore Member &    &  NaN & NaN &   Joint &  18.205513 &  64.694878 \\\\\\\\\\n192 & 2015-07-16 09:06:02 &  47.703865 & -85.726527 &   Locality 1 &   South Shore Member &    &  NaN & NaN &   Joint &  329.905334 &  58.301727 \\\\\\\\\\n193 & 2015-07-16 09:07:52 &  47.703860 & -85.726479 &   Locality 1 &   South Shore Member &    &  NaN & NaN &   Joint &  54.453732 &  76.854454 \\\\\\\\\\n194 & 2015-07-16 09:08:00 &  47.703862 & -85.726483 &   Locality 1 &   South Shore Member &    &  NaN & NaN &   Joint &  274.163239 &  61.708076 \\\\\\\\\\n195 & 2015-07-16 09:08:12 &  47.703849 & -85.726456 &   Locality 1 &   South Shore Member &    &  NaN & NaN &   Joint &  345.177307 &  66.976166 \\\\\\\\\\n196 & 2015-07-16 09:08:19 &  47.703853 & -85.726488 &   Locality 1 &   South Shore Member &    &  NaN & NaN &   Joint &  315.896545 &  85.366524 \\\\\\\\\\n197 & 2015-07-16 09:09:25 &  47.703837 & -85.726389 &   Locality 1 &   South Shore Member &    &  NaN & NaN &   Joint &  33.301537 &  67.965393 \\\\\\\\\\n198 & 2015-07-16 09:09:44 &  47.703837 & -85.726389 &   Locality 1 &   South Shore Member &    &  NaN & NaN &   Joint &  3.181981 &  74.452789 \\\\\\\\\\n199 & 2015-07-16 09:10:16 &  47.703845 & -85.726459 &   Locality 1 &   South Shore Member &    &  NaN & NaN &   Joint &  309.877167 &  84.403023 \\\\\\\\\\n200 & 2015-07-16 09:10:27 &  47.703859 & -85.726464 &   Locality 1 &   South Shore Member &    &  NaN & NaN &   Joint &  79.849648 &  85.751556 \\\\\\\\\\n201 & 2015-07-16 09:10:45 &  47.703890 & -85.726515 &   Locality 1 &   South Shore Member &    &  NaN & NaN &   Joint &  342.989594 &  77.915382 \\\\\\\\\\n202 & 2015-07-16 09:10:55 &  47.703868 & -85.726544 &   Locality 1 &   South Shore Member &    &  NaN & NaN &   Joint &  248.448486 &  89.000000 \\\\\\\\\\n203 & 2015-07-16 09:11:13 &  47.703851 & -85.726587 &   Locality 1 &   South Shore Member &    &  NaN & NaN &   Joint &  7.675138 &  64.534889 \\\\\\\\\\n204 & 2015-07-16 09:12:06 &  47.703853 & -85.726572 &   Locality 1 &   South Shore Member &    &  NaN & NaN &   Joint &  298.112915 &  67.090958 \\\\\\\\\\n205 & 2015-07-16 09:12:16 &  47.703845 & -85.726565 &   Locality 1 &   South Shore Member &    &  NaN & NaN &   Joint &  241.226929 &  83.490463 \\\\\\\\\\n206 & 2015-07-16 09:13:35 &  47.703835 & -85.726570 &   Locality 1 &   South Shore Member &    &  NaN & NaN &   Flow banding &  177.190033 &  10.673479 \\\\\\\\\\n207 & 2015-07-16 09:15:21 &  47.703924 & -85.726588 &   Locality 1 &   South Shore Member &    &  NaN & NaN &   Joint &  132.350052 &  86.255768 \\\\\\\\\\n208 & 2015-07-16 09:15:40 &  47.703936 & -85.726588 &   Locality 1 &   South Shore Member &    &  NaN & NaN &   Joint &  7.487817 &  72.191727 \\\\\\\\\\n209 & 2015-07-16 09:17:03 &  47.703936 & -85.726581 &   Locality 1 &  NaN &   Columnar jointing thick basalt flow. What is being measured as joint planes at this outcrop using the iMapper.  &   210\\\\_1437056223.jpg &  263.027649 &  NaN & NaN & NaN \\\\\\\\\\n210 & 2015-07-16 09:17:22 &  47.703906 & -85.726596 &   Locality 1 &   South Shore Member &    &  NaN & NaN &   Joint &  301.844330 &  86.693909 \\\\\\\\\\n211 & 2015-07-16 09:17:44 &  47.703920 & -85.726612 &   Locality 1 &   South Shore Member &    &  NaN & NaN &   Joint &  111.366203 &  87.359177 \\\\\\\\\\n212 & 2015-07-16 09:17:58 &  47.703932 & -85.726653 &   Locality 1 &   South Shore Member &    &  NaN & NaN &   Joint &  354.221588 &  77.321091 \\\\\\\\\\n213 & 2015-07-16 09:18:07 &  47.703942 & -85.726690 &   Locality 1 &   South Shore Member &    &  NaN & NaN &   Joint &  208.514542 &  88.946991 \\\\\\\\\\n214 & 2015-07-16 09:18:24 &  47.703972 & -85.726685 &   Locality 1 &   South Shore Member &    &  NaN & NaN &   Joint &  289.395782 &  83.429832 \\\\\\\\\\n215 & 2015-07-16 09:18:40 &  47.703971 & -85.726721 &   Locality 1 &   South Shore Member &    &  NaN & NaN &   Joint &  0.869568 &  65.586983 \\\\\\\\\\n216 & 2015-07-16 09:18:52 &  47.703953 & -85.726715 &   Locality 1 &   South Shore Member &    &  NaN & NaN &   Joint &  308.914093 &  79.657578 \\\\\\\\\\n217 & 2015-07-16 09:19:04 &  47.703948 & -85.726718 &   Locality 1 &   South Shore Member &    &  NaN & NaN &   Joint &  16.235912 &  54.367374 \\\\\\\\\\n218 & 2015-07-16 09:19:09 &  47.703956 & -85.726723 &   Locality 1 &   South Shore Member &    &  NaN & NaN &   Joint &  49.205963 &  80.555466 \\\\\\\\\\n219 & 2015-07-16 09:19:20 &  47.703947 & -85.726752 &   Locality 1 &   South Shore Member &    &  NaN & NaN &   Joint &  301.762268 &  76.798607 \\\\\\\\\\n220 & 2015-07-16 09:19:31 &  47.703956 & -85.726761 &   Locality 1 &   South Shore Member &    &  NaN & NaN &   Joint &  331.315582 &  82.484505 \\\\\\\\\\n221 & 2015-07-16 09:19:41 &  47.703949 & -85.726755 &   Locality 1 &   South Shore Member &    &  NaN & NaN &   Joint &  6.251524 &  66.031013 \\\\\\\\\\n222 & 2015-07-16 09:19:58 &  47.703953 & -85.726766 &   Locality 1 &   South Shore Member &    &  NaN & NaN &   Joint &  8.463911 &  87.624969 \\\\\\\\\\n223 & 2015-07-16 09:20:13 &  47.703963 & -85.726776 &   Locality 1 &   South Shore Member &    &  NaN & NaN &   Joint &  30.677986 &  80.884613 \\\\\\\\\\n224 & 2015-07-16 09:21:02 &  47.703923 & -85.727019 &   Locality 1 &   South Shore Member &    &  NaN & NaN &   Joint &  264.282593 &  86.290436 \\\\\\\\\\n225 & 2015-07-16 10:03:26 &  47.705344 & -85.729402 &   Locality 1 &  NaN &   Clastic dike that quadfurcates and then becomes one again at intersection of columnar joints.  &   226\\\\_1437059006.jpg &  8.943727 &  NaN & NaN & NaN \\\\\\\\\\n226 & 2015-07-16 10:09:39 &  47.705385 & -85.729384 &   Locality 1 &  NaN &   Cobble of Heavily vesiculated basalt with auto-brecciation.   &   227\\\\_1437059379.jpg &  338.253693 &  NaN & NaN & NaN \\\\\\\\\\n227 & 2015-07-16 10:16:32 &  47.705298 & -85.729235 &   Locality 1 &  NaN &   Nice columnar joint in massive basalt with flow banding &   228\\\\_1437059792.jpg &  205.242981 &  NaN & NaN & NaN \\\\\\\\\\n228 & 2015-07-16 10:58:33 &  47.705514 & -85.729355 &   Locality 1 &  NaN &   Base of SS16 flow exposure (massive basalt with clastic dikes here). To north is cobble beach then marsh.  &  NaN & NaN &  NaN & NaN & NaN \\\\\\\\\\n229 & 2015-07-16 11:10:43 &  47.705306 & -85.729336 &   Locality 1 &  NaN &   Location of SS16-1 to 5 &  NaN & NaN &  NaN & NaN & NaN \\\\\\\\\\n230 & 2015-07-16 11:17:53 &  47.705265 & -85.729241 &   Locality 1 &  NaN &   Clastic dike orange siltstone in massive basalt flow.  &   231\\\\_1437063473.jpg &  222.500092 &  NaN & NaN & NaN \\\\\\\\\\n231 & 2015-07-16 11:18:57 &  47.705269 & -85.729248 &   Locality 1 &  NaN &   Flow banding in massive basalt exposed on side of columnar joint.   &   232\\\\_1437063537.jpg &  234.794479 &  NaN & NaN & NaN \\\\\\\\\\n232 & 2015-07-16 11:21:02 &  47.705201 & -85.729201 &   Locality 1 &  NaN &   Location of SS16-6\\\\&7 &  NaN & NaN &  NaN & NaN & NaN \\\\\\\\\\n233 & 2015-07-16 11:21:57 &  47.705164 & -85.728990 &   Locality 1 &  NaN &   Location of SS16-8 to 10.  &  NaN & NaN &  NaN & NaN & NaN \\\\\\\\\\n234 & 2015-07-16 11:23:53 &  47.705182 & -85.728698 &   Locality 1 &  NaN &   Top of exposed SS16. Sandy beach and marsh above here until SS17.  &  NaN & NaN &  NaN & NaN & NaN \\\\\\\\\\n235 & 2015-07-16 11:24:11 &  47.705226 & -85.728705 &   Locality 1 &  NaN &    &   236\\\\_1437063851.jpg &  123.048752 &  NaN & NaN & NaN \\\\\\\\\\n236 & 2015-07-16 12:47:19 &  47.704223 & -85.727952 &   Locality 1 &  NaN &   Location of SS17-1 to 9.  &   237\\\\_1437068839.jpg &  210.693161 &  NaN & NaN & NaN \\\\\\\\\\n237 & 2015-07-16 12:47:56 &  47.704298 & -85.728006 &   Locality 1 &  NaN &   Base of SS17 flow exposure.  &  NaN & NaN &  NaN & NaN & NaN \\\\\\\\\\n238 & 2015-07-16 12:50:45 &  47.704057 & -85.727225 &   Locality 1 &  NaN &   Start to get some large amygdules in the flow.  &   239\\\\_1437069045.jpg &  137.728836 &  NaN & NaN & NaN \\\\\\\\\\n239 & 2015-07-16 12:51:27 &  47.703985 & -85.727228 &   Locality 1 &  NaN &   Looking back at SS17 sampling site.  &   240\\\\_1437069087.jpg &  312.127686 &  NaN & NaN & NaN \\\\\\\\\\n240 & 2015-07-16 12:53:26 &  47.703799 & -85.726559 &   Locality 1 &  NaN &   Top of SS17 flow exposure. Covered by LakeSuperior above here. Highest exposed stratigraphic level in the SS Mb.  &   241\\\\_1437069206.jpg &  90.006493 &  NaN & NaN & NaN \\\\\\\\\\n241 & 2015-07-16 14:44:47 &  47.705725 & -85.746589 &   Locality 1 &  NaN &   Nice massive flow with columnar joints &   242\\\\_1437075887.jpg &  110.110367 &  NaN & NaN & NaN \\\\\\\\\\n242 & 2015-07-16 14:48:49 &  47.705845 & -85.746665 &   Locality 1 &  NaN &   Nicely developed columnar joints &   243\\\\_1437076129.jpg &  325.771912 &  NaN & NaN & NaN \\\\\\\\\\n243 & 2015-07-16 14:54:08 &  47.706798 & -85.747941 &   Locality 1 &  NaN &   Lots of amygdaloidal basalt as rubble washed up on beach here. 90\\\\% of beach rubble.  &  NaN & NaN &  NaN & NaN & NaN \\\\\\\\\\n244 & 2015-07-16 14:59:05 &  47.706756 & -85.748328 &   Locality 1 &  NaN &   Basalt clast breccia with coarse calcite fill between angular clasts. Hydrothermal activity? &   245\\\\_1437076745.jpg &  304.316132 &  NaN & NaN & NaN \\\\\\\\\\n245 & 2015-07-16 15:01:10 &  47.706846 & -85.748941 &   Locality 1 &  NaN &   Massive flow with columnar jointing.  &   246\\\\_1437076870.jpg &  345.830353 &  NaN & NaN & NaN \\\\\\\\\\n246 & 2015-07-16 15:04:59 &  47.706906 & -85.749132 &   Locality 1 &  NaN &   Stream of iron oxidizing bacteria sludge &   247\\\\_1437077099.jpg &  78.959610 &  NaN & NaN & NaN \\\\\\\\\\n247 & 2015-07-16 15:11:14 &  47.706347 & -85.750581 &   Locality 1 &  NaN &   Sampable flow. Sampled to west of here as SS20.  &  NaN & NaN &  NaN & NaN & NaN \\\\\\\\\\n248 & 2015-07-16 15:16:12 &  47.706276 & -85.750984 &   Locality 1 &  NaN &   Pile of 95\\\\% vesiculated basalt as rubble on beach. Flow top that was to south of here got eroded and thrown up on the shore.  &   249\\\\_1437077772.jpg &  354.786530 &  NaN & NaN & NaN \\\\\\\\\\n249 & 2015-07-16 15:37:24 &  47.707034 & -85.755840 &   Locality 1 &  NaN &   Another basalt flow interior. Sampleable for pmag.  &  NaN & NaN &  NaN & NaN & NaN \\\\\\\\\\n250 & 2015-07-16 15:48:10 &  47.708147 & -85.758290 &   Locality 1 &  NaN &   Large calcite vein.  &   251\\\\_1437079690.jpg &  94.887619 &  NaN & NaN & NaN \\\\\\\\\\n251 & 2015-07-16 15:50:21 &  47.708108 & -85.758338 &   Locality 1 &  NaN &   Auto-brecciated amygdaloidal flow top exposed in shallow water. Has been ripped through with secondary calcite. Appears to be flow top of thick south shore forming flow.  &   252\\\\_1437079821.jpg &  230.710190 &  NaN & NaN & NaN \\\\\\\\\\n252 & 2015-07-16 15:51:56 &  47.708119 & -85.758334 &   Locality 1 &  NaN &   Amygdules with calcite fill.  &   253\\\\_1437079916.jpg &  38.927563 &  NaN & NaN & NaN \\\\\\\\\\n253 & 2015-07-16 15:56:35 &  47.708324 & -85.758897 &   Locality 1 &  NaN &   Jointed massive basalt with clastic dikes and breccia-inducing veins.  &  NaN & NaN &  NaN & NaN & NaN \\\\\\\\\\n254 & 2015-07-16 15:59:14 &  47.708540 & -85.759184 &   Locality 1 &  NaN &   Same basalt flow. Exposure gets poorer to north.  &  NaN & NaN &  NaN & NaN & NaN \\\\\\\\\\n255 & 2015-07-16 16:06:15 &  47.707689 & -85.757487 &   Locality 1 &  NaN &   Massive basalt that has some large amygdules  &  NaN & NaN &  NaN & NaN & NaN \\\\\\\\\\n256 & 2015-07-16 16:13:25 &  47.707398 & -85.756874 &   Locality 1 &  NaN &   Massive basalt with columnar joints  &  NaN & NaN &  NaN & NaN & NaN \\\\\\\\\\n257 & 2015-07-16 16:15:52 &  47.706999 & -85.755435 &   Locality 1 &  NaN &   Same flow. Cover eastward.  &  NaN & NaN &  NaN & NaN & NaN \\\\\\\\\\n258 & 2015-07-16 16:21:48 &  47.706256 & -85.753510 &   Locality 1 &  NaN &   Massive basalt. Same flow as 4:01 picture and 4:11 note. Base of exposure of SS20 flow.  &  NaN & NaN &  NaN & NaN & NaN \\\\\\\\\\n259 & 2015-07-17 15:09:53 &  47.707373 & -85.756804 &   Locality 1 &  NaN &   Samples SS19-1 to 4 collected here.  &   260\\\\_1437163793.jpg &  264.359955 &  NaN & NaN & NaN \\\\\\\\\\n260 & 2015-07-17 15:13:18 &  47.707373 & -85.756807 &   Locality 1 &  NaN &   SS19-5 to 7 &   261\\\\_1437163998.jpg &  344.613708 &  NaN & NaN & NaN \\\\\\\\\\n261 & 2015-07-17 15:18:09 &  47.707249 & -85.756672 &   Locality 1 &  NaN &   SS19-8 to 10. Massive basalt with nice polygonal joints.  &   262\\\\_1437164289.jpg &  308.081879 &  NaN & NaN & NaN \\\\\\\\\\n262 & 2015-07-17 16:41:23 &  47.706130 & -85.753408 &   Locality 1 &  NaN &   Site SS20 cores sampled here in massive flow banded basalt with columnar joints  &   263\\\\_1437169283.jpg &  309.125732 &  NaN & NaN & NaN \\\\\\\\\\n263 & 2015-07-17 18:02:27 &  47.705960 & -85.746687 &   Locality 1 &  NaN &   Base of SS21 flow &  NaN & NaN &  NaN & NaN & NaN \\\\\\\\\\n264 & 2015-07-17 18:25:42 &  47.705650 & -85.746393 &   Locality 1 &  NaN &   Nicely developed flow banding weathering out into southward dipping planes in SS21 flow.  &   265\\\\_1437175542.jpg &  294.391632 &  NaN & NaN & NaN \\\\\\\\\\n265 & 2015-07-17 18:26:46 &  47.705635 & -85.746435 &   Locality 1 &  NaN &    &   266\\\\_1437175606.jpg &  235.297745 &  NaN & NaN & NaN \\\\\\\\\\n266 & 2015-07-17 18:27:01 &  47.705645 & -85.746416 &   Locality 1 &  NaN &    &   267\\\\_1437175621.jpg &  143.007004 &  NaN & NaN & NaN \\\\\\\\\\n267 & 2015-07-17 18:27:12 &  47.705615 & -85.746405 &   Locality 1 &  NaN &    &   268\\\\_1437175632.jpg &  300.455048 &  NaN & NaN & NaN \\\\\\\\\\n268 & 2015-07-18 09:21:00 &  47.725165 & -85.952320 &   Locality 1 &  NaN &   Cotton Cove Member agglomerate. Clasts range from granules to 30 cm. angular to subrounded. Large clasts in this photo are amygdaloidal basalt.  &   269\\\\_1437229260.jpg &  359.463501 &  NaN & NaN & NaN \\\\\\\\\\n269 & 2015-07-18 09:22:24 &  47.725160 & -85.952327 &   Locality 1 &  NaN &   Cotton Cove Member. Angular to subangular pebble size clasts of felsic to mafic volcanics.  &   270\\\\_1437229344.jpg &  169.527802 &  NaN & NaN & NaN \\\\\\\\\\n270 & 2015-07-18 09:25:20 &  47.725485 & -85.953447 &   Locality 1 &  NaN &   Cotton Cove Member  &  NaN & NaN &  NaN & NaN & NaN \\\\\\\\\\n271 & 2015-07-18 09:31:11 &  47.725812 & -85.954200 &   Locality 1 &  NaN &   Fine-grained blue-grey volcanic rock with some veining. Mapped by Annells as basaltic andesite 2nd intrusive phase.  &   272\\\\_1437229871.jpg &  141.389374 &  NaN & NaN & NaN \\\\\\\\\\n272 & 2015-07-18 10:07:49 &  47.723753 & -85.951608 &   Locality 1 &  NaN &   Little island of Cotton Cove Mb right in front of stream coming into cove.  &   273\\\\_1437232069.jpg &  321.424011 &  NaN & NaN & NaN \\\\\\\\\\n273 & 2015-07-18 11:04:39 &  47.723070 & -85.952262 &   Locality 1 &  NaN &   Base of CM1 exposure.  &  NaN & NaN &  NaN & NaN & NaN \\\\\\\\\\n274 & 2015-07-18 11:06:51 &  47.723050 & -85.952264 &   Locality 1 &  NaN &   Flow banding in CM1 andesite.  &   275\\\\_1437235611.jpg &  141.905838 &  NaN & NaN & NaN \\\\\\\\\\n275 & 2015-07-18 11:07:32 &  47.723092 & -85.952234 &   Locality 1 &  NaN &    &   276\\\\_1437235652.jpg &  146.323395 &  NaN & NaN & NaN \\\\\\\\\\n276 & 2015-07-18 11:08:36 &  47.723045 & -85.952183 &   Locality 1 &  NaN &   Pmag site CM1. Flows collected between base and here. Stratigraphic level from base of exposure was measured and recorded.  &   277\\\\_1437235716.jpg &  316.894897 &  NaN & NaN & NaN \\\\\\\\\\n277 & 2015-07-18 11:26:20 &  47.723042 & -85.952224 &   Locality 1 &  NaN &   Pomeroy orienter configuration for the field season.  &   278\\\\_1437236780.jpg &  178.755707 &  NaN & NaN & NaN \\\\\\\\\\n278 & 2015-07-18 13:13:36 &  47.718712 & -85.955980 &   Locality 1 &  NaN &   CM2 geochron collected here on island with west end light. Upper Cuesta flow.  &   279\\\\_1437243216.jpg &  214.738022 &  NaN & NaN & NaN \\\\\\\\\\n279 & 2015-07-18 13:15:00 &  47.718298 & -85.956236 &   Locality 1 &  NaN &   CM2 &   280\\\\_1437243300.jpg &  1.209105 &  NaN & NaN & NaN \\\\\\\\\\n280 & 2015-07-18 13:29:48 &  47.718640 & -85.956058 &   Locality 1 &  NaN &   CM2. Super fresh with unaltered plag right below the light. In beautiful shape.  &   281\\\\_1437244188.jpg &  24.013481 &  NaN & NaN & NaN \\\\\\\\\\n281 & 2015-07-18 13:30:02 &  47.718640 & -85.956058 &   Locality 1 &  NaN &   CM2 &   282\\\\_1437244202.jpg &  2.912390 &  NaN & NaN & NaN \\\\\\\\\\n282 & 2015-07-18 15:36:48 &  47.718682 & -85.956121 &   Locality 1 &  NaN &   Pmag site CM2. There could be issues with lightning strikes here.  &   283\\\\_1437251808.jpg &  105.123634 &  NaN & NaN & NaN \\\\\\\\\\n283 & 2015-07-18 15:45:15 &  47.718785 & -85.955865 &   Locality 1 &  NaN &   Altered (oxidized) in foreground with fresh Cuesta Mb andesite in the background.   &   284\\\\_1437252315.jpg &  6.398670 &  NaN & NaN & NaN \\\\\\\\\\n284 & 2015-07-18 15:45:53 &  47.718795 & -85.955878 &   Locality 1 &  NaN &   Oxidation front between altered and fresh andesite.  &   285\\\\_1437252353.jpg &  21.707836 &  NaN & NaN & NaN \\\\\\\\\\n285 & 2015-07-18 15:46:13 &  47.718794 & -85.955907 &   Locality 1 &  NaN &    &   286\\\\_1437252373.jpg &  227.897751 &  NaN & NaN & NaN \\\\\\\\\\n286 & 2015-07-18 16:01:54 &  47.718740 & -85.956371 &   Locality 1 &  NaN &   Polygonal jointing in CM2 flow.  &   287\\\\_1437253314.jpg &  2.735916 &  NaN & NaN & NaN \\\\\\\\\\n287 & 2015-07-19 10:45:12 &  47.734961 & -85.956939 &   Locality 1 &  NaN &   Old carved out sea cliff from when lake was higher.  &   288\\\\_1437320712.jpg &  133.682388 &  NaN & NaN & NaN \\\\\\\\\\n288 & 2015-07-19 10:46:07 &  47.734936 & -85.956910 &   Locality 1 &  NaN &   Sea cave carved out at higher lake levels. Shore is rugged here and hard to walk.   &   289\\\\_1437320767.jpg &  20.163343 &  NaN & NaN & NaN \\\\\\\\\\n289 & 2015-07-19 11:13:57 &  47.736275 & -85.951565 &   Locality 1 &  NaN &   Caribou trail &  NaN & NaN &  NaN & NaN & NaN \\\\\\\\\\n290 & 2015-07-19 11:18:19 &  47.736918 & -85.949813 &   Locality 1 &  NaN &   Caribou trail &  NaN & NaN &  NaN & NaN & NaN \\\\\\\\\\n291 & 2015-07-19 11:29:48 &  47.738977 & -85.948601 &   Locality 1 &  NaN &   Schafer Bay wouldnt make for a very nice campsite. Cotton Cove is better.  &   292\\\\_1437323388.jpg &  172.083954 &  NaN & NaN & NaN \\\\\\\\\\n292 & 2015-07-19 11:30:54 &  47.739055 & -85.948652 &   Locality 1 &  NaN &   South side of Schafer Bay is rugged due to the second intrusive phase.  &   293\\\\_1437323454.jpg &  208.538208 &  NaN & NaN & NaN \\\\\\\\\\n293 & 2015-07-19 12:07:05 &  47.741773 & -85.948373 &   Locality 1 &  NaN &   Ophitic basalt exposed along old road(?) &   294\\\\_1437325625.jpg &  258.820953 &  NaN & NaN & NaN \\\\\\\\\\n294 & 2015-07-19 12:33:04 &  47.745985 & -85.946150 &   Locality 1 &  NaN &   Rugged shoreline. Thick conglomerate.  &   295\\\\_1437327184.jpg &  44.423855 &  NaN & NaN & NaN \\\\\\\\\\n295 & 2015-07-19 12:35:46 &  47.745908 & -85.946780 &   Locality 1 &  NaN &   Beautiful exposure of stratified conglomerate.  &   296\\\\_1437327346.jpg &  283.401398 &  NaN & NaN & NaN \\\\\\\\\\n296 & 2015-07-19 13:22:23 &  47.745957 & -85.947303 &   Locality 1 &   Deer Yard Member  &    &  NaN & NaN &   Bedding &  205.951126 &  39.636620 \\\\\\\\\\n297 & 2015-07-19 13:22:48 &  47.745918 & -85.947331 &   Locality 1 &   Deer Yard Member  &    &  NaN & NaN &   Bedding &  179.740509 &  38.183880 \\\\\\\\\\n298 & 2015-07-19 13:24:26 &  47.745754 & -85.947507 &   Locality 1 &  NaN &   Deeryard Member stratified conglomerate  &   299\\\\_1437330266.jpg &  157.251678 &  NaN & NaN & NaN \\\\\\\\\\n299 & 2015-07-19 13:24:56 &  47.745761 & -85.947656 &   Locality 1 &   Deer Yard Member  &    &  NaN & NaN &   Bedding &  182.441467 &  41.121994 \\\\\\\\\\n300 & 2015-07-19 13:26:38 &  47.745862 & -85.948132 &   Locality 1 &  NaN &   Thick flow above Deeryard Member forms shoreline cliff. It is massive ophitic basalt with flow banding.  &   301\\\\_1437330398.jpg &  266.160919 &  NaN & NaN & NaN \\\\\\\\\\n301 & 2015-07-19 13:27:33 &  47.745872 & -85.948016 &   Locality 1 &   Deer Yard Member  &    &  NaN & NaN &   Bedding &  177.934647 &  37.345936 \\\\\\\\\\n302 & 2015-07-19 13:32:08 &  47.745805 & -85.947900 &   Locality 1 &  NaN &   Contact between conglomerate and overlying basalt which fills in around topmost cobbles. Card is on basalt.  &   303\\\\_1437330728.jpg &  176.919846 &  NaN & NaN & NaN \\\\\\\\\\n303 & 2015-07-19 13:52:07 &  47.745751 & -85.950433 &   Locality 1 &  NaN &   Flow with rubbly auto-brecciated top.  &  NaN & NaN &  NaN & NaN & NaN \\\\\\\\\\n304 & 2015-07-19 13:52:12 &  47.745726 & -85.950514 &   Locality 1 &  NaN &   Next flow.  &  NaN & NaN &  NaN & NaN & NaN \\\\\\\\\\n305 & 2015-07-19 13:54:04 &  47.745590 & -85.950690 &   Locality 1 &  NaN &   Coarse ophite of 2:52 flow. Goes into cover of little inlet south of here.  &   306\\\\_1437332044.jpg &  299.788910 &  NaN & NaN & NaN \\\\\\\\\\n306 & 2015-07-19 14:00:25 &  47.744691 & -85.950519 &   Locality 1 &  NaN &   Outcrop resumes. Ophitic Flow interior.  &  NaN & NaN &  NaN & NaN & NaN \\\\\\\\\\n307 & 2015-07-19 14:03:26 &  47.744631 & -85.950893 &   Locality 1 &  NaN &   Pmag holes (likely of Palmer) within this ophitic flow interior. Must be his site 22.  &   308\\\\_1437332606.jpg &  330.202820 &  NaN & NaN & NaN \\\\\\\\\\n308 & 2015-07-19 14:04:22 &  47.744618 & -85.950951 &   Locality 1 &  NaN &    &   309\\\\_1437332662.jpg &  94.263405 &  NaN & NaN & NaN \\\\\\\\\\n309 & 2015-07-19 14:08:24 &  47.743862 & -85.951131 &   Locality 1 &  NaN &   Flow top of this thick ophitic flow.  &  NaN & NaN &  NaN & NaN & NaN \\\\\\\\\\n310 & 2015-07-19 14:09:40 &  47.743598 & -85.951217 &   Locality 1 &  NaN &   Next flow.  &  NaN & NaN &  NaN & NaN & NaN \\\\\\\\\\n311 & 2015-07-19 14:10:00 &  47.743505 & -85.951242 &   Locality 1 &  NaN &   Next flow(?). Not great exposure due to cobble beach.  &  NaN & NaN &  NaN & NaN & NaN \\\\\\\\\\n312 & 2015-07-19 14:11:22 &  47.743201 & -85.951426 &   Locality 1 &  NaN &   Next flow.  &  NaN & NaN &  NaN & NaN & NaN \\\\\\\\\\n313 & 2015-07-19 14:12:27 &  47.742854 & -85.951349 &   Locality 1 &  NaN &   Next flow(?) &  NaN & NaN &  NaN & NaN & NaN \\\\\\\\\\n314 & 2015-07-19 14:13:12 &  47.742708 & -85.951341 &   Locality 1 &  NaN &   Next flow.  &  NaN & NaN &  NaN & NaN & NaN \\\\\\\\\\n315 & 2015-07-19 14:14:20 &  47.742546 & -85.951310 &   Locality 1 &  NaN &   Poor exposure up (south of this ophitic flow interior due to little bay.  &  NaN & NaN &  NaN & NaN & NaN \\\\\\\\\\n316 & 2015-07-19 14:17:14 &  47.741688 & -85.952244 &   Locality 1 &  NaN &   Ophitic flow interior. Oikocrysts up to 1.5 cm &  NaN & NaN &  NaN & NaN & NaN \\\\\\\\\\n317 & 2015-07-19 14:31:20 &  47.740885 & -85.953949 &   Locality 1 &  NaN &   Still in same thick ophitic flow.  &  NaN & NaN &  NaN & NaN & NaN \\\\\\\\\\n318 & 2015-07-19 14:34:25 &  47.740786 & -85.953400 &   Locality 1 &  NaN &   Pegmatoid within thick ophitic flow. Sampling as QM1 (Quebec Mine Member 1) for geochron. Pegmatoid horizon is \\\\textasciitilde0.5 meters thick and has feldspars up to 1 cm long. Looks like Greenstone Flow.  &   319\\\\_1437334465.jpg &  209.865738 &  NaN & NaN & NaN \\\\\\\\\\n319 & 2015-07-19 14:47:46 &  47.740822 & -85.953397 &   Locality 1 &  NaN &   QM1 pegmatoid from interior of thick ophitic basalt flow.  &   320\\\\_1437335266.jpg &  31.442173 &  NaN & NaN & NaN \\\\\\\\\\n320 & 2015-07-19 14:57:36 &  47.740414 & -85.953046 &   Locality 1 &  NaN &   Same thick ophite.  &  NaN & NaN &  NaN & NaN & NaN \\\\\\\\\\n321 & 2015-07-19 15:07:30 &  47.739989 & -85.952470 &   Locality 1 &  NaN &   Massive basalt without thick ophitic texture. Perhaps flow top of ophite is in the cobble beach just north of here? Or this could be near the top of the same flow? &  NaN & NaN &  NaN & NaN & NaN \\\\\\\\\\n322 & 2015-07-19 15:08:00 &  47.739875 & -85.951500 &   Locality 1 &  NaN &   Flow is massive with some large amygdules here. Getting wet wading along quite wavy shore.  &  NaN & NaN &  NaN & NaN & NaN \\\\\\\\\\n323 & 2015-07-19 15:13:11 &  47.739756 & -85.949903 &   Locality 1 &  NaN &   Matrix supported conglomerate  &   324\\\\_1437336791.jpg &  310.465271 &  NaN & NaN & NaN \\\\\\\\\\n324 & 2015-07-19 15:16:38 &  47.738576 & -85.948341 &   Locality 1 &  NaN &   Boulder of coarse ophite.  &   325\\\\_1437336998.jpg &  113.567741 &  NaN & NaN & NaN \\\\\\\\\\n325 & 2015-07-19 15:33:43 &  47.734671 & -85.952350 &   Locality 1 &  NaN &   Caribou trail &  NaN & NaN &  NaN & NaN & NaN \\\\\\\\\\n326 & 2015-07-19 15:35:29 &  47.733930 & -85.952224 &   Locality 1 &  NaN &   Trail &  NaN & NaN &  NaN & NaN & NaN \\\\\\\\\\n327 & 2015-07-19 15:42:24 &  47.732520 & -85.951476 &   Locality 1 &  NaN &   Trail. Not sure how connects up to last one.  &  NaN & NaN &  NaN & NaN & NaN \\\\\\\\\\n328 & 2015-07-19 16:19:30 &  47.725129 & -85.952142 &   Locality 1 &  NaN &   Cotton Cove could be a nice place to camp.  &   329\\\\_1437340770.jpg &  131.603790 &  NaN & NaN & NaN \\\\\\\\\\n329 & 2015-07-19 18:16:51 &  47.694726 & -85.805578 &   Locality 1 &  NaN &   DI rhyolite. Collecting as DI1-geochron. Helipad for scale.  &   330\\\\_1437347811.jpg &  144.349533 &  NaN & NaN & NaN \\\\\\\\\\n330 & 2015-07-19 18:38:37 &  47.694870 & -85.804341 &   Locality 1 &  NaN &   DI rhyolite. Red with white patches and streaks.  &   331\\\\_1437349117.jpg &  167.033249 &  NaN & NaN & NaN \\\\\\\\\\n331 & 2015-07-19 18:39:12 &  47.694857 & -85.804286 &   Locality 1 &  NaN &   Portions of the flow have well-developed flow banding.  &   332\\\\_1437349152.jpg &  131.979355 &  NaN & NaN & NaN \\\\\\\\\\n332 & 2015-07-19 18:39:28 &  47.694855 & -85.804308 &   Locality 1 &  NaN &    &   333\\\\_1437349168.jpg &  253.300217 &  NaN & NaN & NaN \\\\\\\\\\n\\\\end{longtable}\\n\""
      ]
     },
     "execution_count": 9,
     "metadata": {},
     "output_type": "execute_result"
    }
   ],
   "source": [
    "filtered_notes.to_latex(longtable=True)"
   ]
  },
  {
   "cell_type": "code",
   "execution_count": 24,
   "metadata": {
    "collapsed": false
   },
   "outputs": [],
   "source": [
    "filtered_notes_latex = filtered_notes.to_latex(longtable=True,na_rep='NaN')\n",
    "document = '\\documentclass[11pt]{article}'\n",
    "packages = '\\r\\usepackage{booktabs} \\r\\usepackage{longtable}' \n",
    "size = '\\r\\textwidth = 6.5 in \\r\\textheight = 8.5 in'\n",
    "start = '\\r\\begin{document}'     \n",
    "footer = \"\\end{document}\"\n",
    "message = document + packages + size + start + filtered_notes_latex + footer\n",
    "afile=open(\"outputfile.tex\", \"wb\")\n",
    "afile.write(message)"
   ]
  },
  {
   "cell_type": "code",
   "execution_count": 11,
   "metadata": {
    "collapsed": false
   },
   "outputs": [
    {
     "name": "stdout",
     "output_type": "stream",
     "text": [
      "LICENSE                 all_notes.csv           outputfile.tex\r\n",
      "README.md               all_notes_filtered.csv\r\n",
      "Untitled.tex            combine_notes.ipynb\r\n"
     ]
    }
   ],
   "source": [
    "ls"
   ]
  },
  {
   "cell_type": "code",
   "execution_count": null,
   "metadata": {
    "collapsed": true
   },
   "outputs": [],
   "source": []
  }
 ],
 "metadata": {
  "kernelspec": {
   "display_name": "Python 2",
   "language": "python",
   "name": "python2"
  },
  "language_info": {
   "codemirror_mode": {
    "name": "ipython",
    "version": 2
   },
   "file_extension": ".py",
   "mimetype": "text/x-python",
   "name": "python",
   "nbconvert_exporter": "python",
   "pygments_lexer": "ipython2",
   "version": "2.7.9"
  }
 },
 "nbformat": 4,
 "nbformat_minor": 0
}
