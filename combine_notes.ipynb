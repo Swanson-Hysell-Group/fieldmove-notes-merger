{
 "cells": [
  {
   "cell_type": "markdown",
   "metadata": {},
   "source": [
    "# Fieldmove note merger\n",
    "\n",
    "Data collected with the Fieldmove Clino app in the field can be exported into a number of discrete .csv files. The code in this notebook:\n",
    "* imports these files into pandas dataframes\n",
    "* combines these dataframes into a single dataframe\n",
    "* filters the dataframe to only include data fields that are particularly relevant\n",
    "* exports this filtered dataframe as a LaTeX table"
   ]
  },
  {
   "cell_type": "markdown",
   "metadata": {},
   "source": [
    "Import necessary modules:"
   ]
  },
  {
   "cell_type": "code",
   "execution_count": null,
   "metadata": {
    "collapsed": true
   },
   "outputs": [],
   "source": [
    "import os\n",
    "import pandas as pd\n",
    "pd.set_option('display.max_colwidth', -1)\n",
    "from dateutil.parser import parse\n",
    "from numpy import zeros"
   ]
  },
  {
   "cell_type": "markdown",
   "metadata": {},
   "source": [
    "### ACTION REQUIRED: Set your folder path:\n",
    "\n",
    "All output files will be created in this directory.\n",
    "\n",
    "First time users:\n",
    "* comment (append a '#') all paths\n",
    "* using Terminal, navigate to the folder (using 'cd') that contains all Fieldmove .csv's\n",
    "* enter command 'pwd'\n",
    "* copy + paste output to 'blank'\n",
    "* uncomment the new path (remove the '#')\n",
    "\n",
    "Everyone else:\n",
    "* comment (append a '#') all paths\n",
    "* uncomment (remove the '#') your particular path"
   ]
  },
  {
   "cell_type": "code",
   "execution_count": null,
   "metadata": {
    "collapsed": false
   },
   "outputs": [],
   "source": [
    "# folder_path = 'blank'\n",
    "# folder_path = u'/Users/Laurentia/Dropbox/research_projects/keweenawan/2015_fieldwork/Field_data/Michipicoten_data/project1.fm'\n",
    "folder_path = '/Users/yuempark/Documents/Berkeley/Ethiopia/FieldMove/project1.fm'\n",
    "\n",
    "print(folder_path)"
   ]
  },
  {
   "cell_type": "markdown",
   "metadata": {},
   "source": [
    "Read in the data:"
   ]
  },
  {
   "cell_type": "code",
   "execution_count": null,
   "metadata": {
    "collapsed": false,
    "scrolled": false
   },
   "outputs": [],
   "source": [
    "image = pd.read_csv(folder_path + '/image.csv')\n",
    "note = pd.read_csv(folder_path + '/note.csv')\n",
    "plane = pd.read_csv(folder_path + '/plane.csv')\n",
    "line = pd.read_csv(folder_path + '/line.csv')\n",
    "\n",
    "print('image.csv imported with ' + str(image.shape[0]) + ' entries.')\n",
    "print('note.csv imported with ' + str(note.shape[0]) + ' entries.')\n",
    "print('plane.csv imported with ' + str(plane.shape[0]) + ' entries.')\n",
    "print('line.csv imported with ' + str(line.shape[0]) + ' entries.')"
   ]
  },
  {
   "cell_type": "markdown",
   "metadata": {},
   "source": [
    "Concatenate the 4 data files:"
   ]
  },
  {
   "cell_type": "code",
   "execution_count": null,
   "metadata": {
    "collapsed": false
   },
   "outputs": [],
   "source": [
    "all_notes = pd.concat((image, note, plane, line))"
   ]
  },
  {
   "cell_type": "markdown",
   "metadata": {},
   "source": [
    "Sort by time:"
   ]
  },
  {
   "cell_type": "code",
   "execution_count": null,
   "metadata": {
    "collapsed": false
   },
   "outputs": [],
   "source": [
    "all_notes['time'] = pd.to_datetime(all_notes[' timedate'])\n",
    "all_notes.sort(columns='time',inplace='True')\n",
    "all_notes.reset_index(inplace='True')"
   ]
  },
  {
   "cell_type": "markdown",
   "metadata": {},
   "source": [
    "Output to **'all_notes.csv'**, without any filtering:"
   ]
  },
  {
   "cell_type": "code",
   "execution_count": null,
   "metadata": {
    "collapsed": false
   },
   "outputs": [],
   "source": [
    "all_notes.to_csv(os.path.join(folder_path,r'all_notes.csv'))\n",
    "\n",
    "print(all_notes.columns)"
   ]
  },
  {
   "cell_type": "markdown",
   "metadata": {},
   "source": [
    "Select columns that we want in our final LaTeX document:\n",
    "\n",
    "(*'localityName'* is not a header in all .csv's)"
   ]
  },
  {
   "cell_type": "code",
   "execution_count": null,
   "metadata": {
    "collapsed": false
   },
   "outputs": [],
   "source": [
    "try:\n",
    "    filtered_notes = all_notes[['time',\n",
    "                                ' latitude',\n",
    "                                ' longitude',\n",
    "                                ' localityName',\n",
    "                                ' notes',\n",
    "                                ' image name',\n",
    "                                ' heading',\n",
    "                                ' planeType',\n",
    "                                ' dipAzimuth',\n",
    "                                ' dip',\n",
    "                                ' lineationType',\n",
    "                                ' plunge',\n",
    "                                ' plungeAzimuth',\n",
    "                                ' hozizonId']]\n",
    "    \n",
    "except:\n",
    "    fill = zeros((all_notes.shape[0],1))\n",
    "    all_notes[' localityName'] = fill\n",
    "    filtered_notes = all_notes[['time',\n",
    "                                ' latitude',\n",
    "                                ' longitude',\n",
    "                                ' localityName',\n",
    "                                ' notes',\n",
    "                                ' image name',\n",
    "                                ' heading',\n",
    "                                ' planeType',\n",
    "                                ' dipAzimuth',\n",
    "                                ' dip',\n",
    "                                ' lineationType',\n",
    "                                ' plunge',\n",
    "                                ' plungeAzimuth',\n",
    "                                ' hozizonId']]\n",
    "    \n",
    "print(filtered_notes.columns)\n",
    "print(filtered_notes.shape[1])"
   ]
  },
  {
   "cell_type": "markdown",
   "metadata": {},
   "source": [
    "Output to **'all_notes_filtered.csv'**:"
   ]
  },
  {
   "cell_type": "code",
   "execution_count": null,
   "metadata": {
    "collapsed": true
   },
   "outputs": [],
   "source": [
    "filtered_notes.to_csv(os.path.join(folder_path,r'all_notes_filtered.csv'))"
   ]
  },
  {
   "cell_type": "markdown",
   "metadata": {},
   "source": [
    "Convert notes to a LaTeX format:\n",
    "\n",
    "The 'to_latex' package doesn't handle mega-tables (like ours) well at all, so we will instead manually create a table.\n",
    "\n",
    "First, input the necessary frontmatter (packages, etc.):"
   ]
  },
  {
   "cell_type": "code",
   "execution_count": null,
   "metadata": {
    "collapsed": false
   },
   "outputs": [],
   "source": [
    "frontmatter = r'\\documentclass[11pt]{article}' + '\\n' +\\\n",
    "              r'\\usepackage{amsmath}' + '\\n' +\\\n",
    "              r'\\usepackage{amsfonts}' + '\\n' +\\\n",
    "              r'\\usepackage{amssymb}' + '\\n' +\\\n",
    "              r'\\usepackage{wasysym}' + '\\n' +\\\n",
    "              r'\\usepackage{graphicx}' + '\\n' +\\\n",
    "              r'\\usepackage{pslatex}' + '\\n' +\\\n",
    "              r'\\usepackage{lscape}' + '\\n' +\\\n",
    "              r'\\usepackage[T1]{fontenc}' + '\\n' +\\\n",
    "              r'\\usepackage[latin1]{inputenc}' + '\\n' +\\\n",
    "              r'\\usepackage{fancyhdr}' + '\\n' +\\\n",
    "              r'\\usepackage{lastpage}' + '\\n' +\\\n",
    "              r'\\usepackage[english]{babel}' + '\\n' +\\\n",
    "              r'\\usepackage[usenames, dvipsnames]{color}' + '\\n' +\\\n",
    "              r'\\usepackage{color}' + '\\n' +\\\n",
    "              r'\\usepackage{booktabs}' + '\\n' +\\\n",
    "              r'\\usepackage{longtable}' + '\\n' +\\\n",
    "              r'\\usepackage{geometry}' + '\\n' +\\\n",
    "              r'\\geometry{hmargin={0.75in,0.75in},vmargin={1in,1in}}' + '\\n'"
   ]
  },
  {
   "cell_type": "markdown",
   "metadata": {},
   "source": [
    "### ACTION REQUIRED: When prompted, enter a title for your Fieldmove Notes (e.g. Ethiopia 2015), as well as your name:"
   ]
  },
  {
   "cell_type": "code",
   "execution_count": null,
   "metadata": {
    "collapsed": false
   },
   "outputs": [],
   "source": [
    "titleIn = input('Enter the title of your notes: ')\n",
    "authorIn = input('Enter your name: ')\n",
    "title = r'\\title{Fieldmove Notes\\\\' + titleIn + r'}' + '\\n' +\\\n",
    "        r'\\author{' + authorIn + r'}' + '\\n'"
   ]
  },
  {
   "cell_type": "markdown",
   "metadata": {},
   "source": [
    "Create a header for each page:"
   ]
  },
  {
   "cell_type": "code",
   "execution_count": null,
   "metadata": {
    "collapsed": true
   },
   "outputs": [],
   "source": [
    "header = r'\\pagestyle{fancy}' + '\\n' +\\\n",
    "         r'\\rhead {\\emph{\\textcolor{blue}{' + authorIn + r'}, \\thepage ~of \\pageref{LastPage}}}' + '\\n' +\\\n",
    "         r'\\lhead{' + titleIn + r'}' + '\\n' +\\\n",
    "         r'\\cfoot{}' + '\\n' +\\\n",
    "         r'\\renewcommand{\\headrulewidth}{0.4pt}' + '\\n'"
   ]
  },
  {
   "cell_type": "markdown",
   "metadata": {},
   "source": [
    "Some more necessary LaTeX commands before starting the table:"
   ]
  },
  {
   "cell_type": "code",
   "execution_count": null,
   "metadata": {
    "collapsed": false
   },
   "outputs": [],
   "source": [
    "start = r'\\begin{document}' + '\\n' +\\\n",
    "        r'\\maketitle' + '\\n' +\\\n",
    "        r'\\begin{longtable}{llllr}' + '\\n' +\\\n",
    "        r'\\endhead' + '\\n' +\\\n",
    "        r'\\endfoot' + '\\n' +\\\n",
    "        r'\\endlastfoot' + '\\n'"
   ]
  },
  {
   "cell_type": "markdown",
   "metadata": {},
   "source": [
    "Necessary LaTeX commands after the table ends:"
   ]
  },
  {
   "cell_type": "code",
   "execution_count": null,
   "metadata": {
    "collapsed": true
   },
   "outputs": [],
   "source": [
    "end = r'\\end{longtable}' + '\\n' +\\\n",
    "      r'\\end{document}'"
   ]
  },
  {
   "cell_type": "markdown",
   "metadata": {},
   "source": [
    "Now create the table:\n",
    "\n",
    "(First, a little function to make text bold:)"
   ]
  },
  {
   "cell_type": "code",
   "execution_count": null,
   "metadata": {
    "collapsed": true
   },
   "outputs": [],
   "source": [
    "def bold(string):\n",
    "    out = r'\\textbf{' + string + '}'\n",
    "    return out"
   ]
  },
  {
   "cell_type": "markdown",
   "metadata": {},
   "source": [
    "Generate the main body of the LaTeX code:\n",
    "\n",
    "Note that certain special characters need special treatment, otherwise LaTeX will fail to compile."
   ]
  },
  {
   "cell_type": "code",
   "execution_count": null,
   "metadata": {
    "collapsed": false
   },
   "outputs": [],
   "source": [
    "body = ''\n",
    "\n",
    "for i in range(filtered_notes.shape[0]-1):\n",
    "    entry = ''\n",
    "    \n",
    "    entry += r'\\hline' + '\\n'\n",
    "    entry += r'$_{' + str(i+1) + r'}$&&&&\\\\' + '\\n'\n",
    "    entry += bold('time:') + ' ' + str(filtered_notes['time'][i]) + r' & '\n",
    "    entry += bold('lat:') + ' ' + str(filtered_notes[' latitude'][i]) + r' & '\n",
    "    entry += bold('lon:') + ' ' + str(filtered_notes[' longitude'][i]) + r' & '\n",
    "    entry += r'& '\n",
    "    \n",
    "    #if we have locality data, include it\n",
    "    if filtered_notes[' localityName'][i] != 0:\n",
    "        entry += bold('locality:') + ' ' + str(filtered_notes[' localityName'][i]) + r' \\\\' + '\\n'\n",
    "    else:\n",
    "        entry += r'\\\\' + '\\n'\n",
    "    \n",
    "    #always include notes\n",
    "    entry += r'\\multicolumn{5}{p{\\linewidth}}{'\n",
    "    entry += bold('note:') + ' ' + str(filtered_notes[' notes'][i]) + r'} \\\\' + '\\n'\n",
    "    \n",
    "    #if we have photos, include it\n",
    "    try:\n",
    "        temp = filtered_notes[' image name'][i].split('_') #special character\n",
    "        entry += bold('image:') + ' ' + temp[0] + r'\\_' + temp[1] + r' & '\n",
    "        entry += bold('heading:') + ' ' + str(round(filtered_notes[' heading'][i],1)) + r' & '\n",
    "        entry += r'& & \\\\' + '\\n'\n",
    "    except:\n",
    "        pass\n",
    "    \n",
    "    #if we have a formation name, include it\n",
    "    if str(filtered_notes[' hozizonId'][i]) == 'nan':\n",
    "        pass\n",
    "    else:\n",
    "        entry += bold('fm:') + ' ' + str(filtered_notes[' hozizonId'][i]) + r' & '\n",
    "        entry += r'& & & \\\\' + '\\n'\n",
    "    \n",
    "    #if we have plane data, include it\n",
    "    if str(filtered_notes[' dip'][i]) == 'nan':\n",
    "        pass\n",
    "    else:\n",
    "        entry += bold('plane:') + ' ' + str(filtered_notes[' planeType'][i]) + r' & '\n",
    "        entry += bold('dip:') + ' ' + str(round(filtered_notes[' dip'][i],1)) + r' & '\n",
    "        entry += bold('azimuth:') + ' ' + str(round(filtered_notes[' dipAzimuth'][i],1)) + r' & '\n",
    "        entry += r'& \\\\' + '\\n'\n",
    "    \n",
    "    #if we have line data, include it\n",
    "    if str(filtered_notes[' plunge'][i]) == 'nan':\n",
    "        pass\n",
    "    else:\n",
    "        entry += bold('line:') + ' ' + str(filtered_notes[' lineationType'][i]) + r' & '\n",
    "        entry += bold('plunge:') + ' ' + str(round(filtered_notes[' plunge'][i],1)) + r' & '\n",
    "        entry += bold('azimuth:') + ' ' + str(round(filtered_notes[' plungeAzimuth'][i],1)) + r' & '\n",
    "        entry += r'& \\\\' + '\\n'\n",
    "    \n",
    "    body += entry\n",
    "\n",
    "body += r'\\hline' + '\\n'\n",
    "    \n",
    "#special characters  \n",
    "body = body.replace('%',r'\\%')\n",
    "body = body.replace('<',r'$<$')\n",
    "body = body.replace('>',r'$>$')\n",
    "body = body.replace('~',r'\\textasciitilde')"
   ]
  },
  {
   "cell_type": "markdown",
   "metadata": {},
   "source": [
    "Combine all the strings, and prepare for output into a .tex file:"
   ]
  },
  {
   "cell_type": "code",
   "execution_count": null,
   "metadata": {
    "collapsed": true
   },
   "outputs": [],
   "source": [
    "toLatex = frontmatter + header + title + start + body + end"
   ]
  },
  {
   "cell_type": "markdown",
   "metadata": {},
   "source": [
    "Output to **'latexoutput.tex'**:"
   ]
  },
  {
   "cell_type": "code",
   "execution_count": null,
   "metadata": {
    "collapsed": false
   },
   "outputs": [],
   "source": [
    "afile = open(os.path.join(folder_path,r'latexoutput.tex'), 'wt')\n",
    "afile.write(toLatex)"
   ]
  },
  {
   "cell_type": "markdown",
   "metadata": {},
   "source": [
    "### ACTION REQUIRED: Open 'latexoutput.tex' with your favourite .tex editor, and compile!\n",
    "\n",
    "**'latexoutput.pdf'** is the final product."
   ]
  }
 ],
 "metadata": {
  "kernelspec": {
   "display_name": "Python 3",
   "language": "python",
   "name": "python3"
  },
  "language_info": {
   "codemirror_mode": {
    "name": "ipython",
    "version": 3
   },
   "file_extension": ".py",
   "mimetype": "text/x-python",
   "name": "python",
   "nbconvert_exporter": "python",
   "pygments_lexer": "ipython3",
   "version": "3.4.3"
  }
 },
 "nbformat": 4,
 "nbformat_minor": 0
}
